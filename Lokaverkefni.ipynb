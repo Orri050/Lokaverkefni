{
  "nbformat": 4,
  "nbformat_minor": 0,
  "metadata": {
    "colab": {
      "name": "Lokaverkefni.ipynb",
      "provenance": [],
      "authorship_tag": "ABX9TyNIa/Rl8al5TyVUWl2FxSml",
      "include_colab_link": true
    },
    "kernelspec": {
      "name": "python3",
      "display_name": "Python 3"
    },
    "language_info": {
      "name": "python"
    }
  },
  "cells": [
    {
      "cell_type": "markdown",
      "metadata": {
        "id": "view-in-github",
        "colab_type": "text"
      },
      "source": [
        "<a href=\"https://colab.research.google.com/github/Orri050/Lokaverkefni/blob/main/Lokaverkefni.ipynb\" target=\"_parent\"><img src=\"https://colab.research.google.com/assets/colab-badge.svg\" alt=\"Open In Colab\"/></a>"
      ]
    },
    {
      "cell_type": "markdown",
      "source": [
        "# Forritið"
      ],
      "metadata": {
        "id": "2IjNk_S6goC4"
      }
    },
    {
      "cell_type": "markdown",
      "source": [
        "## Grunnur"
      ],
      "metadata": {
        "id": "v355062lu2xY"
      }
    },
    {
      "cell_type": "code",
      "execution_count": 900,
      "metadata": {
        "colab": {
          "base_uri": "https://localhost:8080/"
        },
        "id": "ID5JHX0EnWQE",
        "outputId": "e406e129-8f3f-4991-fdbf-7f772c7b066d"
      },
      "outputs": [
        {
          "output_type": "stream",
          "name": "stdout",
          "text": [
            "Requirement already satisfied: yfinance in /usr/local/lib/python3.7/dist-packages (0.1.70)\n",
            "Requirement already satisfied: numpy>=1.15 in /usr/local/lib/python3.7/dist-packages (from yfinance) (1.21.5)\n",
            "Requirement already satisfied: lxml>=4.5.1 in /usr/local/lib/python3.7/dist-packages (from yfinance) (4.8.0)\n",
            "Requirement already satisfied: pandas>=0.24.0 in /usr/local/lib/python3.7/dist-packages (from yfinance) (1.3.5)\n",
            "Requirement already satisfied: multitasking>=0.0.7 in /usr/local/lib/python3.7/dist-packages (from yfinance) (0.0.10)\n",
            "Requirement already satisfied: requests>=2.26 in /usr/local/lib/python3.7/dist-packages (from yfinance) (2.27.1)\n",
            "Requirement already satisfied: python-dateutil>=2.7.3 in /usr/local/lib/python3.7/dist-packages (from pandas>=0.24.0->yfinance) (2.8.2)\n",
            "Requirement already satisfied: pytz>=2017.3 in /usr/local/lib/python3.7/dist-packages (from pandas>=0.24.0->yfinance) (2018.9)\n",
            "Requirement already satisfied: six>=1.5 in /usr/local/lib/python3.7/dist-packages (from python-dateutil>=2.7.3->pandas>=0.24.0->yfinance) (1.15.0)\n",
            "Requirement already satisfied: certifi>=2017.4.17 in /usr/local/lib/python3.7/dist-packages (from requests>=2.26->yfinance) (2021.10.8)\n",
            "Requirement already satisfied: charset-normalizer~=2.0.0 in /usr/local/lib/python3.7/dist-packages (from requests>=2.26->yfinance) (2.0.12)\n",
            "Requirement already satisfied: idna<4,>=2.5 in /usr/local/lib/python3.7/dist-packages (from requests>=2.26->yfinance) (2.10)\n",
            "Requirement already satisfied: urllib3<1.27,>=1.21.1 in /usr/local/lib/python3.7/dist-packages (from requests>=2.26->yfinance) (1.24.3)\n"
          ]
        }
      ],
      "source": [
        "pip install yfinance"
      ]
    },
    {
      "cell_type": "code",
      "source": [
        "pip install plotly"
      ],
      "metadata": {
        "colab": {
          "base_uri": "https://localhost:8080/"
        },
        "id": "nMDBtDVobWTe",
        "outputId": "e3b32d9b-0bf1-4a57-ed8f-b0ae945512a4"
      },
      "execution_count": 901,
      "outputs": [
        {
          "output_type": "stream",
          "name": "stdout",
          "text": [
            "Requirement already satisfied: plotly in /usr/local/lib/python3.7/dist-packages (5.5.0)\n",
            "Requirement already satisfied: tenacity>=6.2.0 in /usr/local/lib/python3.7/dist-packages (from plotly) (8.0.1)\n",
            "Requirement already satisfied: six in /usr/local/lib/python3.7/dist-packages (from plotly) (1.15.0)\n"
          ]
        }
      ]
    },
    {
      "cell_type": "code",
      "source": [
        "import tensorflow as tf\n",
        "import math\n",
        "from pandas.tseries.offsets import DateOffset\n",
        "from datetime import timedelta, date\n",
        "import matplotlib.dates as mdates\n",
        "import matplotlib.pyplot as plt\n",
        "import plotly.graph_objs as go\n",
        "import datetime as dt\n",
        "import yfinance as yf\n",
        "import numpy as np\n",
        "import pandas as pd\n",
        "from pandas_datareader import data as pdr\n",
        "from tensorflow import keras\n",
        "from sklearn.preprocessing import MinMaxScaler, StandardScaler\n",
        "from sklearn.metrics import mean_squared_error\n",
        "from sklearn.model_selection import train_test_split\n",
        "from sklearn.metrics import mean_absolute_percentage_error\n",
        "from sklearn.model_selection import TimeSeriesSplit\n",
        "\n"
      ],
      "metadata": {
        "id": "vHrZkndBnv8t"
      },
      "execution_count": 902,
      "outputs": []
    },
    {
      "cell_type": "markdown",
      "source": [
        "## Val á hlutabréfi"
      ],
      "metadata": {
        "id": "UoTCW7uvg2Ax"
      }
    },
    {
      "cell_type": "code",
      "source": [
        "choice = input('Write a stock symbol:')\n",
        "choice = choice.upper()"
      ],
      "metadata": {
        "colab": {
          "base_uri": "https://localhost:8080/"
        },
        "id": "fdWUyzUBhEAG",
        "outputId": "e803b6dc-74e1-4af7-96c0-7ada2834d213"
      },
      "execution_count": 1201,
      "outputs": [
        {
          "name": "stdout",
          "output_type": "stream",
          "text": [
            "Write a stock symbol:SVN.IC\n"
          ]
        }
      ]
    },
    {
      "cell_type": "code",
      "source": [
        "islenskt=input('Íslenskt? (1 já), (0 nei):')\n",
        "islenskt = islenskt.upper()"
      ],
      "metadata": {
        "colab": {
          "base_uri": "https://localhost:8080/"
        },
        "id": "kpa-aLW8f8lw",
        "outputId": "72162744-f20e-42db-85d2-5af9105c2e14"
      },
      "execution_count": 1202,
      "outputs": [
        {
          "name": "stdout",
          "output_type": "stream",
          "text": [
            "Íslenskt? (1 já), (0 nei):1\n"
          ]
        }
      ]
    },
    {
      "cell_type": "markdown",
      "source": [
        "## Hlutabréf gögn"
      ],
      "metadata": {
        "id": "D-95r77shJB4"
      }
    },
    {
      "cell_type": "code",
      "source": [
        "data = yf.download(tickers=choice, start=\"2019-03-04\", end=\"2022-04-18\", interval='1d')\n",
        "#data = yf.download(tickers=choice, period = 'max', interval = '1d', rounding= True)"
      ],
      "metadata": {
        "colab": {
          "base_uri": "https://localhost:8080/"
        },
        "id": "nRwPHtGwjLK7",
        "outputId": "26c964b7-9ce1-4d06-e079-752a4ed25354"
      },
      "execution_count": 1203,
      "outputs": [
        {
          "output_type": "stream",
          "name": "stdout",
          "text": [
            "\r[*********************100%***********************]  1 of 1 completed\n"
          ]
        }
      ]
    },
    {
      "cell_type": "code",
      "source": [
        "data_Open=data[['Open']] #this returns a DataFrame, you don't need loc\n",
        "data_dates=data.index.to_frame().reset_index(drop=True)\n",
        "data_dates=data_dates.apply(pd.to_datetime)"
      ],
      "metadata": {
        "id": "4dAbZ9jkrpLU"
      },
      "execution_count": 1204,
      "outputs": []
    },
    {
      "cell_type": "markdown",
      "source": [
        "### yf.ticker "
      ],
      "metadata": {
        "id": "iFZT54BmqnLl"
      }
    },
    {
      "cell_type": "code",
      "source": [
        "yf.pdr_override()\n",
        "stock = yf.Ticker(choice)"
      ],
      "metadata": {
        "id": "BAXlFLGc4RBF"
      },
      "execution_count": 1205,
      "outputs": []
    },
    {
      "cell_type": "code",
      "source": [
        "stockh = stock.history(period='max',start=\"2019-03-04\",end=\"2022-04-18\", interval='1d')\n",
        "#stockh = stock.history(period='max', interval='1d')\n",
        "stockh"
      ],
      "metadata": {
        "colab": {
          "base_uri": "https://localhost:8080/",
          "height": 0
        },
        "id": "MI3gUkSzpu2D",
        "outputId": "8fc82881-6a9a-446f-9bbe-231b5fb40f72"
      },
      "execution_count": 1206,
      "outputs": [
        {
          "output_type": "execute_result",
          "data": {
            "text/plain": [
              "                  Open        High         Low       Close   Volume  \\\n",
              "Date                                                                  \n",
              "2021-06-21   61.500000   63.500000   61.500000   62.500000  3388847   \n",
              "2021-06-22   62.500000   63.200001   62.299999   62.799999  3124381   \n",
              "2021-06-23   62.599998   62.799999   62.299999   62.400002   430365   \n",
              "2021-06-24   62.400002   63.000000   62.400002   62.400002   705780   \n",
              "2021-06-25   62.400002   62.400002   62.400002   62.400002        0   \n",
              "...                ...         ...         ...         ...      ...   \n",
              "2022-04-08  103.500000  104.500000  103.500000  104.000000  1685550   \n",
              "2022-04-11  104.000000  105.000000  103.000000  105.000000  4196512   \n",
              "2022-04-12  105.000000  105.000000  103.500000  103.500000   802361   \n",
              "2022-04-13  104.000000  105.000000  104.000000  104.500000   950718   \n",
              "2022-04-14  104.500000  104.500000  104.500000  104.500000        0   \n",
              "\n",
              "            Dividends  Stock Splits  \n",
              "Date                                 \n",
              "2021-06-21          0             0  \n",
              "2021-06-22          0             0  \n",
              "2021-06-23          0             0  \n",
              "2021-06-24          0             0  \n",
              "2021-06-25          0             0  \n",
              "...               ...           ...  \n",
              "2022-04-08          0             0  \n",
              "2022-04-11          0             0  \n",
              "2022-04-12          0             0  \n",
              "2022-04-13          0             0  \n",
              "2022-04-14          0             0  \n",
              "\n",
              "[211 rows x 7 columns]"
            ],
            "text/html": [
              "\n",
              "  <div id=\"df-9f24fb05-6705-44f9-abc8-9ecde3d81e16\">\n",
              "    <div class=\"colab-df-container\">\n",
              "      <div>\n",
              "<style scoped>\n",
              "    .dataframe tbody tr th:only-of-type {\n",
              "        vertical-align: middle;\n",
              "    }\n",
              "\n",
              "    .dataframe tbody tr th {\n",
              "        vertical-align: top;\n",
              "    }\n",
              "\n",
              "    .dataframe thead th {\n",
              "        text-align: right;\n",
              "    }\n",
              "</style>\n",
              "<table border=\"1\" class=\"dataframe\">\n",
              "  <thead>\n",
              "    <tr style=\"text-align: right;\">\n",
              "      <th></th>\n",
              "      <th>Open</th>\n",
              "      <th>High</th>\n",
              "      <th>Low</th>\n",
              "      <th>Close</th>\n",
              "      <th>Volume</th>\n",
              "      <th>Dividends</th>\n",
              "      <th>Stock Splits</th>\n",
              "    </tr>\n",
              "    <tr>\n",
              "      <th>Date</th>\n",
              "      <th></th>\n",
              "      <th></th>\n",
              "      <th></th>\n",
              "      <th></th>\n",
              "      <th></th>\n",
              "      <th></th>\n",
              "      <th></th>\n",
              "    </tr>\n",
              "  </thead>\n",
              "  <tbody>\n",
              "    <tr>\n",
              "      <th>2021-06-21</th>\n",
              "      <td>61.500000</td>\n",
              "      <td>63.500000</td>\n",
              "      <td>61.500000</td>\n",
              "      <td>62.500000</td>\n",
              "      <td>3388847</td>\n",
              "      <td>0</td>\n",
              "      <td>0</td>\n",
              "    </tr>\n",
              "    <tr>\n",
              "      <th>2021-06-22</th>\n",
              "      <td>62.500000</td>\n",
              "      <td>63.200001</td>\n",
              "      <td>62.299999</td>\n",
              "      <td>62.799999</td>\n",
              "      <td>3124381</td>\n",
              "      <td>0</td>\n",
              "      <td>0</td>\n",
              "    </tr>\n",
              "    <tr>\n",
              "      <th>2021-06-23</th>\n",
              "      <td>62.599998</td>\n",
              "      <td>62.799999</td>\n",
              "      <td>62.299999</td>\n",
              "      <td>62.400002</td>\n",
              "      <td>430365</td>\n",
              "      <td>0</td>\n",
              "      <td>0</td>\n",
              "    </tr>\n",
              "    <tr>\n",
              "      <th>2021-06-24</th>\n",
              "      <td>62.400002</td>\n",
              "      <td>63.000000</td>\n",
              "      <td>62.400002</td>\n",
              "      <td>62.400002</td>\n",
              "      <td>705780</td>\n",
              "      <td>0</td>\n",
              "      <td>0</td>\n",
              "    </tr>\n",
              "    <tr>\n",
              "      <th>2021-06-25</th>\n",
              "      <td>62.400002</td>\n",
              "      <td>62.400002</td>\n",
              "      <td>62.400002</td>\n",
              "      <td>62.400002</td>\n",
              "      <td>0</td>\n",
              "      <td>0</td>\n",
              "      <td>0</td>\n",
              "    </tr>\n",
              "    <tr>\n",
              "      <th>...</th>\n",
              "      <td>...</td>\n",
              "      <td>...</td>\n",
              "      <td>...</td>\n",
              "      <td>...</td>\n",
              "      <td>...</td>\n",
              "      <td>...</td>\n",
              "      <td>...</td>\n",
              "    </tr>\n",
              "    <tr>\n",
              "      <th>2022-04-08</th>\n",
              "      <td>103.500000</td>\n",
              "      <td>104.500000</td>\n",
              "      <td>103.500000</td>\n",
              "      <td>104.000000</td>\n",
              "      <td>1685550</td>\n",
              "      <td>0</td>\n",
              "      <td>0</td>\n",
              "    </tr>\n",
              "    <tr>\n",
              "      <th>2022-04-11</th>\n",
              "      <td>104.000000</td>\n",
              "      <td>105.000000</td>\n",
              "      <td>103.000000</td>\n",
              "      <td>105.000000</td>\n",
              "      <td>4196512</td>\n",
              "      <td>0</td>\n",
              "      <td>0</td>\n",
              "    </tr>\n",
              "    <tr>\n",
              "      <th>2022-04-12</th>\n",
              "      <td>105.000000</td>\n",
              "      <td>105.000000</td>\n",
              "      <td>103.500000</td>\n",
              "      <td>103.500000</td>\n",
              "      <td>802361</td>\n",
              "      <td>0</td>\n",
              "      <td>0</td>\n",
              "    </tr>\n",
              "    <tr>\n",
              "      <th>2022-04-13</th>\n",
              "      <td>104.000000</td>\n",
              "      <td>105.000000</td>\n",
              "      <td>104.000000</td>\n",
              "      <td>104.500000</td>\n",
              "      <td>950718</td>\n",
              "      <td>0</td>\n",
              "      <td>0</td>\n",
              "    </tr>\n",
              "    <tr>\n",
              "      <th>2022-04-14</th>\n",
              "      <td>104.500000</td>\n",
              "      <td>104.500000</td>\n",
              "      <td>104.500000</td>\n",
              "      <td>104.500000</td>\n",
              "      <td>0</td>\n",
              "      <td>0</td>\n",
              "      <td>0</td>\n",
              "    </tr>\n",
              "  </tbody>\n",
              "</table>\n",
              "<p>211 rows × 7 columns</p>\n",
              "</div>\n",
              "      <button class=\"colab-df-convert\" onclick=\"convertToInteractive('df-9f24fb05-6705-44f9-abc8-9ecde3d81e16')\"\n",
              "              title=\"Convert this dataframe to an interactive table.\"\n",
              "              style=\"display:none;\">\n",
              "        \n",
              "  <svg xmlns=\"http://www.w3.org/2000/svg\" height=\"24px\"viewBox=\"0 0 24 24\"\n",
              "       width=\"24px\">\n",
              "    <path d=\"M0 0h24v24H0V0z\" fill=\"none\"/>\n",
              "    <path d=\"M18.56 5.44l.94 2.06.94-2.06 2.06-.94-2.06-.94-.94-2.06-.94 2.06-2.06.94zm-11 1L8.5 8.5l.94-2.06 2.06-.94-2.06-.94L8.5 2.5l-.94 2.06-2.06.94zm10 10l.94 2.06.94-2.06 2.06-.94-2.06-.94-.94-2.06-.94 2.06-2.06.94z\"/><path d=\"M17.41 7.96l-1.37-1.37c-.4-.4-.92-.59-1.43-.59-.52 0-1.04.2-1.43.59L10.3 9.45l-7.72 7.72c-.78.78-.78 2.05 0 2.83L4 21.41c.39.39.9.59 1.41.59.51 0 1.02-.2 1.41-.59l7.78-7.78 2.81-2.81c.8-.78.8-2.07 0-2.86zM5.41 20L4 18.59l7.72-7.72 1.47 1.35L5.41 20z\"/>\n",
              "  </svg>\n",
              "      </button>\n",
              "      \n",
              "  <style>\n",
              "    .colab-df-container {\n",
              "      display:flex;\n",
              "      flex-wrap:wrap;\n",
              "      gap: 12px;\n",
              "    }\n",
              "\n",
              "    .colab-df-convert {\n",
              "      background-color: #E8F0FE;\n",
              "      border: none;\n",
              "      border-radius: 50%;\n",
              "      cursor: pointer;\n",
              "      display: none;\n",
              "      fill: #1967D2;\n",
              "      height: 32px;\n",
              "      padding: 0 0 0 0;\n",
              "      width: 32px;\n",
              "    }\n",
              "\n",
              "    .colab-df-convert:hover {\n",
              "      background-color: #E2EBFA;\n",
              "      box-shadow: 0px 1px 2px rgba(60, 64, 67, 0.3), 0px 1px 3px 1px rgba(60, 64, 67, 0.15);\n",
              "      fill: #174EA6;\n",
              "    }\n",
              "\n",
              "    [theme=dark] .colab-df-convert {\n",
              "      background-color: #3B4455;\n",
              "      fill: #D2E3FC;\n",
              "    }\n",
              "\n",
              "    [theme=dark] .colab-df-convert:hover {\n",
              "      background-color: #434B5C;\n",
              "      box-shadow: 0px 1px 3px 1px rgba(0, 0, 0, 0.15);\n",
              "      filter: drop-shadow(0px 1px 2px rgba(0, 0, 0, 0.3));\n",
              "      fill: #FFFFFF;\n",
              "    }\n",
              "  </style>\n",
              "\n",
              "      <script>\n",
              "        const buttonEl =\n",
              "          document.querySelector('#df-9f24fb05-6705-44f9-abc8-9ecde3d81e16 button.colab-df-convert');\n",
              "        buttonEl.style.display =\n",
              "          google.colab.kernel.accessAllowed ? 'block' : 'none';\n",
              "\n",
              "        async function convertToInteractive(key) {\n",
              "          const element = document.querySelector('#df-9f24fb05-6705-44f9-abc8-9ecde3d81e16');\n",
              "          const dataTable =\n",
              "            await google.colab.kernel.invokeFunction('convertToInteractive',\n",
              "                                                     [key], {});\n",
              "          if (!dataTable) return;\n",
              "\n",
              "          const docLinkHtml = 'Like what you see? Visit the ' +\n",
              "            '<a target=\"_blank\" href=https://colab.research.google.com/notebooks/data_table.ipynb>data table notebook</a>'\n",
              "            + ' to learn more about interactive tables.';\n",
              "          element.innerHTML = '';\n",
              "          dataTable['output_type'] = 'display_data';\n",
              "          await google.colab.output.renderOutput(dataTable, element);\n",
              "          const docLink = document.createElement('div');\n",
              "          docLink.innerHTML = docLinkHtml;\n",
              "          element.appendChild(docLink);\n",
              "        }\n",
              "      </script>\n",
              "    </div>\n",
              "  </div>\n",
              "  "
            ]
          },
          "metadata": {},
          "execution_count": 1206
        }
      ]
    },
    {
      "cell_type": "code",
      "source": [
        "data.columns"
      ],
      "metadata": {
        "colab": {
          "base_uri": "https://localhost:8080/"
        },
        "id": "JCQhKURKzEGK",
        "outputId": "7852ed20-c0d3-423e-e987-60f545220a2f"
      },
      "execution_count": 1207,
      "outputs": [
        {
          "output_type": "execute_result",
          "data": {
            "text/plain": [
              "Index(['Open', 'High', 'Low', 'Close', 'Adj Close', 'Volume'], dtype='object')"
            ]
          },
          "metadata": {},
          "execution_count": 1207
        }
      ]
    },
    {
      "cell_type": "code",
      "source": [
        "stockh.index"
      ],
      "metadata": {
        "colab": {
          "base_uri": "https://localhost:8080/"
        },
        "id": "nyahMhHg0HLU",
        "outputId": "d1d966ea-22c9-4d5f-b50c-23e3e6a998c0"
      },
      "execution_count": 1208,
      "outputs": [
        {
          "output_type": "execute_result",
          "data": {
            "text/plain": [
              "DatetimeIndex(['2021-06-21', '2021-06-22', '2021-06-23', '2021-06-24',\n",
              "               '2021-06-25', '2021-06-28', '2021-06-29', '2021-06-30',\n",
              "               '2021-07-01', '2021-07-02',\n",
              "               ...\n",
              "               '2022-04-01', '2022-04-04', '2022-04-05', '2022-04-06',\n",
              "               '2022-04-07', '2022-04-08', '2022-04-11', '2022-04-12',\n",
              "               '2022-04-13', '2022-04-14'],\n",
              "              dtype='datetime64[ns]', name='Date', length=211, freq=None)"
            ]
          },
          "metadata": {},
          "execution_count": 1208
        }
      ]
    },
    {
      "cell_type": "code",
      "source": [
        "stockh_Open=stockh[['Open']] #this returns a DataFrame, you don't need loc\n",
        "stockh_dates=stockh.index.to_frame().reset_index(drop=True)\n",
        "stockh_dates=stockh_dates.apply(pd.to_datetime)"
      ],
      "metadata": {
        "id": "rufPggJA0Txm"
      },
      "execution_count": 1209,
      "outputs": []
    },
    {
      "cell_type": "code",
      "source": [
        "jon=stock.dividends\n",
        "divi_dates=jon.index.to_frame().reset_index(drop=True)\n",
        "divi_dates=divi_dates.apply(pd.to_datetime)\n",
        "print(divi_dates)"
      ],
      "metadata": {
        "colab": {
          "base_uri": "https://localhost:8080/"
        },
        "id": "bBre3cJS82-G",
        "outputId": "96a7cab4-6444-4d3d-a9e5-5b9649f5a82b"
      },
      "execution_count": 1210,
      "outputs": [
        {
          "output_type": "stream",
          "name": "stdout",
          "text": [
            "Empty DataFrame\n",
            "Columns: [Date]\n",
            "Index: []\n"
          ]
        }
      ]
    },
    {
      "cell_type": "code",
      "source": [
        "add_dates = [data.index[-1] + DateOffset(days=x) for x in range(0,32) ]\n",
        "future_dates = pd.DataFrame(index=add_dates[1:],columns=data.columns)\n",
        "#future_dates"
      ],
      "metadata": {
        "id": "weX8Shuusd5I"
      },
      "execution_count": 1211,
      "outputs": []
    },
    {
      "cell_type": "markdown",
      "source": [
        "## Open close"
      ],
      "metadata": {
        "id": "vQEFg2p7uOa3"
      }
    },
    {
      "cell_type": "code",
      "source": [
        "plt.figure(figsize=(15,10))\n",
        "plt.gca().xaxis.set_major_formatter(mdates.DateFormatter('%Y-%m-%d'))\n",
        "plt.gca().xaxis.set_major_locator(mdates.DayLocator(interval=75))\n",
        "\n",
        "x_dates=data_dates\n",
        "plt.plot(x_dates, data['Open'], label='Open')\n",
        "plt.plot(x_dates, data['Adj Close'], label='Adj Close')\n",
        "plt.xlabel('Time Scale')\n",
        "plt.ylabel('USD')\n",
        "plt.legend()\n",
        "plt.gcf().autofmt_xdate()\n",
        "plt.show()"
      ],
      "metadata": {
        "colab": {
          "base_uri": "https://localhost:8080/",
          "height": 0
        },
        "id": "LxCsaeCEAbq4",
        "outputId": "fa80af32-57f1-4978-f2f5-d0a799f92cbc"
      },
      "execution_count": 1212,
      "outputs": [
        {
          "output_type": "display_data",
          "data": {
            "text/plain": [
              "<Figure size 1080x720 with 1 Axes>"
            ],
            "image/png": "[encoded data removed]"
          },
          "metadata": {
            "needs_background": "light"
          }
        }
      ]
    },
    {
      "cell_type": "markdown",
      "source": [
        "## High low"
      ],
      "metadata": {
        "id": "8CsO7pbfuTJL"
      }
    },
    {
      "cell_type": "code",
      "source": [
        "plt.figure(figsize=(15,10))\n",
        "plt.gca().xaxis.set_major_formatter(mdates.DateFormatter('%Y-%m-%d'))\n",
        "plt.gca().xaxis.set_major_locator(mdates.DayLocator(interval=75))\n",
        "\n",
        "x_dates=data_dates\n",
        "plt.plot(x_dates, data['High'], label='High')\n",
        "plt.plot(x_dates, data['Low'], label='Low')\n",
        "plt.xlabel('Time Scale')\n",
        "plt.ylabel('USD')\n",
        "plt.legend()\n",
        "plt.gcf().autofmt_xdate()\n",
        "plt.show()"
      ],
      "metadata": {
        "colab": {
          "base_uri": "https://localhost:8080/",
          "height": 0
        },
        "id": "cArjRagKyPZd",
        "outputId": "bbbb6969-62c7-4802-9776-f3b192af57ac"
      },
      "execution_count": 1213,
      "outputs": [
        {
          "output_type": "display_data",
          "data": {
            "text/plain": [
              "<Figure size 1080x720 with 1 Axes>"
            ],
            "image/png": "[encoded data removed]"
          },
          "metadata": {
            "needs_background": "light"
          }
        }
      ]
    },
    {
      "cell_type": "markdown",
      "source": [
        "## Fyrsta módel"
      ],
      "metadata": {
        "id": "l2E_Lm4DuXeI"
      }
    },
    {
      "cell_type": "markdown",
      "source": [
        "### Gagnaundirbúningur"
      ],
      "metadata": {
        "id": "0XLYER0QjDbP"
      }
    },
    {
      "cell_type": "code",
      "source": [
        "target_y = data['Adj Close']\n",
        "X_feat= data.iloc[:,0:5]\n",
        "h_feat=data.iloc[:,4]"
      ],
      "metadata": {
        "id": "cmBUx1oAERyr"
      },
      "execution_count": 1214,
      "outputs": []
    },
    {
      "cell_type": "code",
      "source": [
        "h_feat"
      ],
      "metadata": {
        "colab": {
          "base_uri": "https://localhost:8080/"
        },
        "id": "PGL2m0lpsLcG",
        "outputId": "9275ae2d-07a1-4f54-c108-54c84cc0c7c9"
      },
      "execution_count": 1215,
      "outputs": [
        {
          "output_type": "execute_result",
          "data": {
            "text/plain": [
              "Date\n",
              "2021-06-21     62.500000\n",
              "2021-06-22     62.799999\n",
              "2021-06-23     62.400002\n",
              "2021-06-24     62.400002\n",
              "2021-06-25     62.400002\n",
              "                 ...    \n",
              "2022-04-08    104.000000\n",
              "2022-04-11    105.000000\n",
              "2022-04-12    103.500000\n",
              "2022-04-13    104.500000\n",
              "2022-04-14    104.500000\n",
              "Name: Adj Close, Length: 211, dtype: float64"
            ]
          },
          "metadata": {},
          "execution_count": 1215
        }
      ]
    },
    {
      "cell_type": "code",
      "source": [
        "X_feat"
      ],
      "metadata": {
        "colab": {
          "base_uri": "https://localhost:8080/",
          "height": 0
        },
        "id": "n-5vHTHEXSwM",
        "outputId": "4badb385-6e2d-4b05-f127-e49d3473a98d"
      },
      "execution_count": 1216,
      "outputs": [
        {
          "output_type": "execute_result",
          "data": {
            "text/plain": [
              "                  Open        High         Low       Close   Adj Close\n",
              "Date                                                                  \n",
              "2021-06-21   61.500000   63.500000   61.500000   62.500000   62.500000\n",
              "2021-06-22   62.500000   63.200001   62.299999   62.799999   62.799999\n",
              "2021-06-23   62.599998   62.799999   62.299999   62.400002   62.400002\n",
              "2021-06-24   62.400002   63.000000   62.400002   62.400002   62.400002\n",
              "2021-06-25   62.400002   62.400002   62.400002   62.400002   62.400002\n",
              "...                ...         ...         ...         ...         ...\n",
              "2022-04-08  103.500000  104.500000  103.500000  104.000000  104.000000\n",
              "2022-04-11  104.000000  105.000000  103.000000  105.000000  105.000000\n",
              "2022-04-12  105.000000  105.000000  103.500000  103.500000  103.500000\n",
              "2022-04-13  104.000000  105.000000  104.000000  104.500000  104.500000\n",
              "2022-04-14  104.500000  104.500000  104.500000  104.500000  104.500000\n",
              "\n",
              "[211 rows x 5 columns]"
            ],
            "text/html": [
              "\n",
              "  <div id=\"df-c57ac059-ad55-4fa8-ad48-8858274f1448\">\n",
              "    <div class=\"colab-df-container\">\n",
              "      <div>\n",
              "<style scoped>\n",
              "    .dataframe tbody tr th:only-of-type {\n",
              "        vertical-align: middle;\n",
              "    }\n",
              "\n",
              "    .dataframe tbody tr th {\n",
              "        vertical-align: top;\n",
              "    }\n",
              "\n",
              "    .dataframe thead th {\n",
              "        text-align: right;\n",
              "    }\n",
              "</style>\n",
              "<table border=\"1\" class=\"dataframe\">\n",
              "  <thead>\n",
              "    <tr style=\"text-align: right;\">\n",
              "      <th></th>\n",
              "      <th>Open</th>\n",
              "      <th>High</th>\n",
              "      <th>Low</th>\n",
              "      <th>Close</th>\n",
              "      <th>Adj Close</th>\n",
              "    </tr>\n",
              "    <tr>\n",
              "      <th>Date</th>\n",
              "      <th></th>\n",
              "      <th></th>\n",
              "      <th></th>\n",
              "      <th></th>\n",
              "      <th></th>\n",
              "    </tr>\n",
              "  </thead>\n",
              "  <tbody>\n",
              "    <tr>\n",
              "      <th>2021-06-21</th>\n",
              "      <td>61.500000</td>\n",
              "      <td>63.500000</td>\n",
              "      <td>61.500000</td>\n",
              "      <td>62.500000</td>\n",
              "      <td>62.500000</td>\n",
              "    </tr>\n",
              "    <tr>\n",
              "      <th>2021-06-22</th>\n",
              "      <td>62.500000</td>\n",
              "      <td>63.200001</td>\n",
              "      <td>62.299999</td>\n",
              "      <td>62.799999</td>\n",
              "      <td>62.799999</td>\n",
              "    </tr>\n",
              "    <tr>\n",
              "      <th>2021-06-23</th>\n",
              "      <td>62.599998</td>\n",
              "      <td>62.799999</td>\n",
              "      <td>62.299999</td>\n",
              "      <td>62.400002</td>\n",
              "      <td>62.400002</td>\n",
              "    </tr>\n",
              "    <tr>\n",
              "      <th>2021-06-24</th>\n",
              "      <td>62.400002</td>\n",
              "      <td>63.000000</td>\n",
              "      <td>62.400002</td>\n",
              "      <td>62.400002</td>\n",
              "      <td>62.400002</td>\n",
              "    </tr>\n",
              "    <tr>\n",
              "      <th>2021-06-25</th>\n",
              "      <td>62.400002</td>\n",
              "      <td>62.400002</td>\n",
              "      <td>62.400002</td>\n",
              "      <td>62.400002</td>\n",
              "      <td>62.400002</td>\n",
              "    </tr>\n",
              "    <tr>\n",
              "      <th>...</th>\n",
              "      <td>...</td>\n",
              "      <td>...</td>\n",
              "      <td>...</td>\n",
              "      <td>...</td>\n",
              "      <td>...</td>\n",
              "    </tr>\n",
              "    <tr>\n",
              "      <th>2022-04-08</th>\n",
              "      <td>103.500000</td>\n",
              "      <td>104.500000</td>\n",
              "      <td>103.500000</td>\n",
              "      <td>104.000000</td>\n",
              "      <td>104.000000</td>\n",
              "    </tr>\n",
              "    <tr>\n",
              "      <th>2022-04-11</th>\n",
              "      <td>104.000000</td>\n",
              "      <td>105.000000</td>\n",
              "      <td>103.000000</td>\n",
              "      <td>105.000000</td>\n",
              "      <td>105.000000</td>\n",
              "    </tr>\n",
              "    <tr>\n",
              "      <th>2022-04-12</th>\n",
              "      <td>105.000000</td>\n",
              "      <td>105.000000</td>\n",
              "      <td>103.500000</td>\n",
              "      <td>103.500000</td>\n",
              "      <td>103.500000</td>\n",
              "    </tr>\n",
              "    <tr>\n",
              "      <th>2022-04-13</th>\n",
              "      <td>104.000000</td>\n",
              "      <td>105.000000</td>\n",
              "      <td>104.000000</td>\n",
              "      <td>104.500000</td>\n",
              "      <td>104.500000</td>\n",
              "    </tr>\n",
              "    <tr>\n",
              "      <th>2022-04-14</th>\n",
              "      <td>104.500000</td>\n",
              "      <td>104.500000</td>\n",
              "      <td>104.500000</td>\n",
              "      <td>104.500000</td>\n",
              "      <td>104.500000</td>\n",
              "    </tr>\n",
              "  </tbody>\n",
              "</table>\n",
              "<p>211 rows × 5 columns</p>\n",
              "</div>\n",
              "      <button class=\"colab-df-convert\" onclick=\"convertToInteractive('df-c57ac059-ad55-4fa8-ad48-8858274f1448')\"\n",
              "              title=\"Convert this dataframe to an interactive table.\"\n",
              "              style=\"display:none;\">\n",
              "        \n",
              "  <svg xmlns=\"http://www.w3.org/2000/svg\" height=\"24px\"viewBox=\"0 0 24 24\"\n",
              "       width=\"24px\">\n",
              "    <path d=\"M0 0h24v24H0V0z\" fill=\"none\"/>\n",
              "    <path d=\"M18.56 5.44l.94 2.06.94-2.06 2.06-.94-2.06-.94-.94-2.06-.94 2.06-2.06.94zm-11 1L8.5 8.5l.94-2.06 2.06-.94-2.06-.94L8.5 2.5l-.94 2.06-2.06.94zm10 10l.94 2.06.94-2.06 2.06-.94-2.06-.94-.94-2.06-.94 2.06-2.06.94z\"/><path d=\"M17.41 7.96l-1.37-1.37c-.4-.4-.92-.59-1.43-.59-.52 0-1.04.2-1.43.59L10.3 9.45l-7.72 7.72c-.78.78-.78 2.05 0 2.83L4 21.41c.39.39.9.59 1.41.59.51 0 1.02-.2 1.41-.59l7.78-7.78 2.81-2.81c.8-.78.8-2.07 0-2.86zM5.41 20L4 18.59l7.72-7.72 1.47 1.35L5.41 20z\"/>\n",
              "  </svg>\n",
              "      </button>\n",
              "      \n",
              "  <style>\n",
              "    .colab-df-container {\n",
              "      display:flex;\n",
              "      flex-wrap:wrap;\n",
              "      gap: 12px;\n",
              "    }\n",
              "\n",
              "    .colab-df-convert {\n",
              "      background-color: #E8F0FE;\n",
              "      border: none;\n",
              "      border-radius: 50%;\n",
              "      cursor: pointer;\n",
              "      display: none;\n",
              "      fill: #1967D2;\n",
              "      height: 32px;\n",
              "      padding: 0 0 0 0;\n",
              "      width: 32px;\n",
              "    }\n",
              "\n",
              "    .colab-df-convert:hover {\n",
              "      background-color: #E2EBFA;\n",
              "      box-shadow: 0px 1px 2px rgba(60, 64, 67, 0.3), 0px 1px 3px 1px rgba(60, 64, 67, 0.15);\n",
              "      fill: #174EA6;\n",
              "    }\n",
              "\n",
              "    [theme=dark] .colab-df-convert {\n",
              "      background-color: #3B4455;\n",
              "      fill: #D2E3FC;\n",
              "    }\n",
              "\n",
              "    [theme=dark] .colab-df-convert:hover {\n",
              "      background-color: #434B5C;\n",
              "      box-shadow: 0px 1px 3px 1px rgba(0, 0, 0, 0.15);\n",
              "      filter: drop-shadow(0px 1px 2px rgba(0, 0, 0, 0.3));\n",
              "      fill: #FFFFFF;\n",
              "    }\n",
              "  </style>\n",
              "\n",
              "      <script>\n",
              "        const buttonEl =\n",
              "          document.querySelector('#df-c57ac059-ad55-4fa8-ad48-8858274f1448 button.colab-df-convert');\n",
              "        buttonEl.style.display =\n",
              "          google.colab.kernel.accessAllowed ? 'block' : 'none';\n",
              "\n",
              "        async function convertToInteractive(key) {\n",
              "          const element = document.querySelector('#df-c57ac059-ad55-4fa8-ad48-8858274f1448');\n",
              "          const dataTable =\n",
              "            await google.colab.kernel.invokeFunction('convertToInteractive',\n",
              "                                                     [key], {});\n",
              "          if (!dataTable) return;\n",
              "\n",
              "          const docLinkHtml = 'Like what you see? Visit the ' +\n",
              "            '<a target=\"_blank\" href=https://colab.research.google.com/notebooks/data_table.ipynb>data table notebook</a>'\n",
              "            + ' to learn more about interactive tables.';\n",
              "          element.innerHTML = '';\n",
              "          dataTable['output_type'] = 'display_data';\n",
              "          await google.colab.output.renderOutput(dataTable, element);\n",
              "          const docLink = document.createElement('div');\n",
              "          docLink.innerHTML = docLinkHtml;\n",
              "          element.appendChild(docLink);\n",
              "        }\n",
              "      </script>\n",
              "    </div>\n",
              "  </div>\n",
              "  "
            ]
          },
          "metadata": {},
          "execution_count": 1216
        }
      ]
    },
    {
      "cell_type": "code",
      "source": [
        "h_ft=np.array(h_feat)\n",
        "h_ft=h_ft.reshape(-1,1)"
      ],
      "metadata": {
        "id": "8Xp_D3-iauam"
      },
      "execution_count": 1217,
      "outputs": []
    },
    {
      "cell_type": "code",
      "source": [
        "sc= StandardScaler()\n",
        "X_ft = sc.fit_transform(X_feat.values)\n",
        "X_ft = pd.DataFrame(columns=X_feat.columns, data=X_ft,index=X_feat.index)\n"
      ],
      "metadata": {
        "id": "RqTyOjVtFEJn"
      },
      "execution_count": 1218,
      "outputs": []
    },
    {
      "cell_type": "code",
      "source": [
        "h_ft=sc.fit_transform(h_ft)"
      ],
      "metadata": {
        "id": "LrflUbBAbHSL"
      },
      "execution_count": 1219,
      "outputs": []
    },
    {
      "cell_type": "code",
      "source": [
        "def lstm_split(data, n_steps1):\n",
        "  X, y=[], []\n",
        "  for i in range(len(data)-n_steps1+1):\n",
        "    X.append(data[i:i+n_steps1,:-1])\n",
        "    y.append(data[i+n_steps1-1,-1])\n",
        "\n",
        "  return np.array(X), np.array(y)\n"
      ],
      "metadata": {
        "id": "Dbmzir8vF5ZB"
      },
      "execution_count": 1220,
      "outputs": []
    },
    {
      "cell_type": "code",
      "source": [
        "X11, y11= lstm_split(X_ft.values, n_steps1=1)\n",
        "\n",
        "train_split=0.8\n",
        "split_idx= int(np.ceil(len(X11)*train_split))\n",
        "date_index=X_ft.index\n",
        "\n",
        "Xtr1, Xtst1= X11[:split_idx], X11[split_idx:]\n",
        "ytr1, ytst1= y11[:split_idx], y11[split_idx:]\n",
        "Xtrd1, Xtstd1= date_index[:split_idx], date_index[split_idx:]\n",
        "\n",
        "print(X11.shape, Xtr1.shape, Xtst1.shape, ytst1.shape)"
      ],
      "metadata": {
        "colab": {
          "base_uri": "https://localhost:8080/"
        },
        "id": "o1an_8KkF5py",
        "outputId": "5681fcd5-3f2c-4b89-e32e-322d3891a9ca"
      },
      "execution_count": 1221,
      "outputs": [
        {
          "output_type": "stream",
          "name": "stdout",
          "text": [
            "(211, 1, 4) (169, 1, 4) (42, 1, 4) (42,)\n"
          ]
        }
      ]
    },
    {
      "cell_type": "markdown",
      "source": [
        "### Modelið"
      ],
      "metadata": {
        "id": "Q6FqVKtorARF"
      }
    },
    {
      "cell_type": "code",
      "source": [
        "model1 = keras.models.Sequential([\n",
        "    keras.layers.LSTM(32,input_shape=(Xtr1.shape[1],Xtr1.shape[2]), activation=\"relu\",return_sequences=True),\n",
        "    keras.layers.LSTM(32),\n",
        "    keras.layers.Dense(1)])\n",
        "model1.compile(loss=\"mean_squared_error\", optimizer=\"adam\")\n",
        "model1.summary()"
      ],
      "metadata": {
        "colab": {
          "base_uri": "https://localhost:8080/"
        },
        "id": "sPHjoqYDF6DK",
        "outputId": "bdb0d968-9c3d-4a21-c2c2-9148afb30d9b"
      },
      "execution_count": 1222,
      "outputs": [
        {
          "output_type": "stream",
          "name": "stdout",
          "text": [
            "Model: \"sequential_68\"\n",
            "_________________________________________________________________\n",
            " Layer (type)                Output Shape              Param #   \n",
            "=================================================================\n",
            " lstm_139 (LSTM)             (None, 1, 32)             4736      \n",
            "                                                                 \n",
            " lstm_140 (LSTM)             (None, 32)                8320      \n",
            "                                                                 \n",
            " dense_68 (Dense)            (None, 1)                 33        \n",
            "                                                                 \n",
            "=================================================================\n",
            "Total params: 13,089\n",
            "Trainable params: 13,089\n",
            "Non-trainable params: 0\n",
            "_________________________________________________________________\n"
          ]
        }
      ]
    },
    {
      "cell_type": "code",
      "source": [
        "history1=model1.fit(Xtr1,ytr1,epochs=100,validation_data=(Xtst1, ytst1),batch_size=4,verbose=2,shuffle=False)"
      ],
      "metadata": {
        "id": "WxvRb6UYUuO2",
        "colab": {
          "base_uri": "https://localhost:8080/"
        },
        "outputId": "2147ffa4-ce49-445d-c287-347449818b32"
      },
      "execution_count": 1223,
      "outputs": [
        {
          "output_type": "stream",
          "name": "stdout",
          "text": [
            "Epoch 1/100\n",
            "43/43 - 3s - loss: 1.0521 - val_loss: 0.6732 - 3s/epoch - 75ms/step\n",
            "Epoch 2/100\n",
            "43/43 - 0s - loss: 0.8370 - val_loss: 0.3315 - 145ms/epoch - 3ms/step\n",
            "Epoch 3/100\n",
            "43/43 - 0s - loss: 0.3115 - val_loss: 0.0177 - 154ms/epoch - 4ms/step\n",
            "Epoch 4/100\n",
            "43/43 - 0s - loss: 0.0191 - val_loss: 0.0198 - 156ms/epoch - 4ms/step\n",
            "Epoch 5/100\n",
            "43/43 - 0s - loss: 0.0094 - val_loss: 0.0118 - 157ms/epoch - 4ms/step\n",
            "Epoch 6/100\n",
            "43/43 - 0s - loss: 0.0098 - val_loss: 0.0101 - 151ms/epoch - 4ms/step\n",
            "Epoch 7/100\n",
            "43/43 - 0s - loss: 0.0048 - val_loss: 0.0085 - 159ms/epoch - 4ms/step\n",
            "Epoch 8/100\n",
            "43/43 - 0s - loss: 0.0063 - val_loss: 0.0075 - 153ms/epoch - 4ms/step\n",
            "Epoch 9/100\n",
            "43/43 - 0s - loss: 0.0042 - val_loss: 0.0065 - 168ms/epoch - 4ms/step\n",
            "Epoch 10/100\n",
            "43/43 - 0s - loss: 0.0049 - val_loss: 0.0061 - 160ms/epoch - 4ms/step\n",
            "Epoch 11/100\n",
            "43/43 - 0s - loss: 0.0040 - val_loss: 0.0055 - 168ms/epoch - 4ms/step\n",
            "Epoch 12/100\n",
            "43/43 - 0s - loss: 0.0041 - val_loss: 0.0053 - 173ms/epoch - 4ms/step\n",
            "Epoch 13/100\n",
            "43/43 - 0s - loss: 0.0036 - val_loss: 0.0049 - 160ms/epoch - 4ms/step\n",
            "Epoch 14/100\n",
            "43/43 - 0s - loss: 0.0035 - val_loss: 0.0048 - 153ms/epoch - 4ms/step\n",
            "Epoch 15/100\n",
            "43/43 - 0s - loss: 0.0032 - val_loss: 0.0045 - 171ms/epoch - 4ms/step\n",
            "Epoch 16/100\n",
            "43/43 - 0s - loss: 0.0031 - val_loss: 0.0044 - 165ms/epoch - 4ms/step\n",
            "Epoch 17/100\n",
            "43/43 - 0s - loss: 0.0029 - val_loss: 0.0043 - 155ms/epoch - 4ms/step\n",
            "Epoch 18/100\n",
            "43/43 - 0s - loss: 0.0027 - val_loss: 0.0042 - 170ms/epoch - 4ms/step\n",
            "Epoch 19/100\n",
            "43/43 - 0s - loss: 0.0025 - val_loss: 0.0041 - 167ms/epoch - 4ms/step\n",
            "Epoch 20/100\n",
            "43/43 - 0s - loss: 0.0024 - val_loss: 0.0041 - 163ms/epoch - 4ms/step\n",
            "Epoch 21/100\n",
            "43/43 - 0s - loss: 0.0022 - val_loss: 0.0040 - 169ms/epoch - 4ms/step\n",
            "Epoch 22/100\n",
            "43/43 - 0s - loss: 0.0021 - val_loss: 0.0040 - 155ms/epoch - 4ms/step\n",
            "Epoch 23/100\n",
            "43/43 - 0s - loss: 0.0020 - val_loss: 0.0040 - 160ms/epoch - 4ms/step\n",
            "Epoch 24/100\n",
            "43/43 - 0s - loss: 0.0019 - val_loss: 0.0040 - 166ms/epoch - 4ms/step\n",
            "Epoch 25/100\n",
            "43/43 - 0s - loss: 0.0018 - val_loss: 0.0040 - 160ms/epoch - 4ms/step\n",
            "Epoch 26/100\n",
            "43/43 - 0s - loss: 0.0018 - val_loss: 0.0040 - 163ms/epoch - 4ms/step\n",
            "Epoch 27/100\n",
            "43/43 - 0s - loss: 0.0017 - val_loss: 0.0040 - 156ms/epoch - 4ms/step\n",
            "Epoch 28/100\n",
            "43/43 - 0s - loss: 0.0016 - val_loss: 0.0040 - 163ms/epoch - 4ms/step\n",
            "Epoch 29/100\n",
            "43/43 - 0s - loss: 0.0016 - val_loss: 0.0040 - 154ms/epoch - 4ms/step\n",
            "Epoch 30/100\n",
            "43/43 - 0s - loss: 0.0015 - val_loss: 0.0040 - 170ms/epoch - 4ms/step\n",
            "Epoch 31/100\n",
            "43/43 - 0s - loss: 0.0015 - val_loss: 0.0040 - 155ms/epoch - 4ms/step\n",
            "Epoch 32/100\n",
            "43/43 - 0s - loss: 0.0014 - val_loss: 0.0040 - 166ms/epoch - 4ms/step\n",
            "Epoch 33/100\n",
            "43/43 - 0s - loss: 0.0014 - val_loss: 0.0039 - 158ms/epoch - 4ms/step\n",
            "Epoch 34/100\n",
            "43/43 - 0s - loss: 0.0014 - val_loss: 0.0039 - 161ms/epoch - 4ms/step\n",
            "Epoch 35/100\n",
            "43/43 - 0s - loss: 0.0013 - val_loss: 0.0039 - 165ms/epoch - 4ms/step\n",
            "Epoch 36/100\n",
            "43/43 - 0s - loss: 0.0013 - val_loss: 0.0039 - 164ms/epoch - 4ms/step\n",
            "Epoch 37/100\n",
            "43/43 - 0s - loss: 0.0013 - val_loss: 0.0039 - 155ms/epoch - 4ms/step\n",
            "Epoch 38/100\n",
            "43/43 - 0s - loss: 0.0013 - val_loss: 0.0038 - 157ms/epoch - 4ms/step\n",
            "Epoch 39/100\n",
            "43/43 - 0s - loss: 0.0012 - val_loss: 0.0038 - 165ms/epoch - 4ms/step\n",
            "Epoch 40/100\n",
            "43/43 - 0s - loss: 0.0012 - val_loss: 0.0038 - 167ms/epoch - 4ms/step\n",
            "Epoch 41/100\n",
            "43/43 - 0s - loss: 0.0013 - val_loss: 0.0038 - 164ms/epoch - 4ms/step\n",
            "Epoch 42/100\n",
            "43/43 - 0s - loss: 0.0013 - val_loss: 0.0038 - 153ms/epoch - 4ms/step\n",
            "Epoch 43/100\n",
            "43/43 - 0s - loss: 0.0014 - val_loss: 0.0037 - 169ms/epoch - 4ms/step\n",
            "Epoch 44/100\n",
            "43/43 - 0s - loss: 0.0014 - val_loss: 0.0038 - 158ms/epoch - 4ms/step\n",
            "Epoch 45/100\n",
            "43/43 - 0s - loss: 0.0016 - val_loss: 0.0038 - 155ms/epoch - 4ms/step\n",
            "Epoch 46/100\n",
            "43/43 - 0s - loss: 0.0018 - val_loss: 0.0040 - 154ms/epoch - 4ms/step\n",
            "Epoch 47/100\n",
            "43/43 - 0s - loss: 0.0021 - val_loss: 0.0040 - 159ms/epoch - 4ms/step\n",
            "Epoch 48/100\n",
            "43/43 - 0s - loss: 0.0025 - val_loss: 0.0040 - 154ms/epoch - 4ms/step\n",
            "Epoch 49/100\n",
            "43/43 - 0s - loss: 0.0029 - val_loss: 0.0039 - 166ms/epoch - 4ms/step\n",
            "Epoch 50/100\n",
            "43/43 - 0s - loss: 0.0033 - val_loss: 0.0038 - 164ms/epoch - 4ms/step\n",
            "Epoch 51/100\n",
            "43/43 - 0s - loss: 0.0034 - val_loss: 0.0037 - 150ms/epoch - 3ms/step\n",
            "Epoch 52/100\n",
            "43/43 - 0s - loss: 0.0033 - val_loss: 0.0036 - 161ms/epoch - 4ms/step\n",
            "Epoch 53/100\n",
            "43/43 - 0s - loss: 0.0029 - val_loss: 0.0036 - 154ms/epoch - 4ms/step\n",
            "Epoch 54/100\n",
            "43/43 - 0s - loss: 0.0025 - val_loss: 0.0036 - 153ms/epoch - 4ms/step\n",
            "Epoch 55/100\n",
            "43/43 - 0s - loss: 0.0022 - val_loss: 0.0036 - 165ms/epoch - 4ms/step\n",
            "Epoch 56/100\n",
            "43/43 - 0s - loss: 0.0020 - val_loss: 0.0036 - 154ms/epoch - 4ms/step\n",
            "Epoch 57/100\n",
            "43/43 - 0s - loss: 0.0018 - val_loss: 0.0035 - 158ms/epoch - 4ms/step\n",
            "Epoch 58/100\n",
            "43/43 - 0s - loss: 0.0017 - val_loss: 0.0035 - 152ms/epoch - 4ms/step\n",
            "Epoch 59/100\n",
            "43/43 - 0s - loss: 0.0016 - val_loss: 0.0034 - 164ms/epoch - 4ms/step\n",
            "Epoch 60/100\n",
            "43/43 - 0s - loss: 0.0016 - val_loss: 0.0034 - 164ms/epoch - 4ms/step\n",
            "Epoch 61/100\n",
            "43/43 - 0s - loss: 0.0016 - val_loss: 0.0034 - 150ms/epoch - 3ms/step\n",
            "Epoch 62/100\n",
            "43/43 - 0s - loss: 0.0016 - val_loss: 0.0033 - 158ms/epoch - 4ms/step\n",
            "Epoch 63/100\n",
            "43/43 - 0s - loss: 0.0016 - val_loss: 0.0033 - 152ms/epoch - 4ms/step\n",
            "Epoch 64/100\n",
            "43/43 - 0s - loss: 0.0016 - val_loss: 0.0033 - 154ms/epoch - 4ms/step\n",
            "Epoch 65/100\n",
            "43/43 - 0s - loss: 0.0016 - val_loss: 0.0033 - 187ms/epoch - 4ms/step\n",
            "Epoch 66/100\n",
            "43/43 - 0s - loss: 0.0017 - val_loss: 0.0032 - 154ms/epoch - 4ms/step\n",
            "Epoch 67/100\n",
            "43/43 - 0s - loss: 0.0017 - val_loss: 0.0032 - 159ms/epoch - 4ms/step\n",
            "Epoch 68/100\n",
            "43/43 - 0s - loss: 0.0018 - val_loss: 0.0032 - 169ms/epoch - 4ms/step\n",
            "Epoch 69/100\n",
            "43/43 - 0s - loss: 0.0018 - val_loss: 0.0032 - 148ms/epoch - 3ms/step\n",
            "Epoch 70/100\n",
            "43/43 - 0s - loss: 0.0019 - val_loss: 0.0032 - 158ms/epoch - 4ms/step\n",
            "Epoch 71/100\n",
            "43/43 - 0s - loss: 0.0019 - val_loss: 0.0031 - 154ms/epoch - 4ms/step\n",
            "Epoch 72/100\n",
            "43/43 - 0s - loss: 0.0020 - val_loss: 0.0031 - 159ms/epoch - 4ms/step\n",
            "Epoch 73/100\n",
            "43/43 - 0s - loss: 0.0019 - val_loss: 0.0031 - 164ms/epoch - 4ms/step\n",
            "Epoch 74/100\n",
            "43/43 - 0s - loss: 0.0019 - val_loss: 0.0031 - 160ms/epoch - 4ms/step\n",
            "Epoch 75/100\n",
            "43/43 - 0s - loss: 0.0019 - val_loss: 0.0031 - 156ms/epoch - 4ms/step\n",
            "Epoch 76/100\n",
            "43/43 - 0s - loss: 0.0018 - val_loss: 0.0030 - 158ms/epoch - 4ms/step\n",
            "Epoch 77/100\n",
            "43/43 - 0s - loss: 0.0018 - val_loss: 0.0030 - 157ms/epoch - 4ms/step\n",
            "Epoch 78/100\n",
            "43/43 - 0s - loss: 0.0017 - val_loss: 0.0030 - 161ms/epoch - 4ms/step\n",
            "Epoch 79/100\n",
            "43/43 - 0s - loss: 0.0016 - val_loss: 0.0030 - 181ms/epoch - 4ms/step\n",
            "Epoch 80/100\n",
            "43/43 - 0s - loss: 0.0016 - val_loss: 0.0030 - 172ms/epoch - 4ms/step\n",
            "Epoch 81/100\n",
            "43/43 - 0s - loss: 0.0016 - val_loss: 0.0029 - 155ms/epoch - 4ms/step\n",
            "Epoch 82/100\n",
            "43/43 - 0s - loss: 0.0015 - val_loss: 0.0029 - 161ms/epoch - 4ms/step\n",
            "Epoch 83/100\n",
            "43/43 - 0s - loss: 0.0015 - val_loss: 0.0029 - 156ms/epoch - 4ms/step\n",
            "Epoch 84/100\n",
            "43/43 - 0s - loss: 0.0015 - val_loss: 0.0029 - 163ms/epoch - 4ms/step\n",
            "Epoch 85/100\n",
            "43/43 - 0s - loss: 0.0015 - val_loss: 0.0028 - 156ms/epoch - 4ms/step\n",
            "Epoch 86/100\n",
            "43/43 - 0s - loss: 0.0015 - val_loss: 0.0028 - 162ms/epoch - 4ms/step\n",
            "Epoch 87/100\n",
            "43/43 - 0s - loss: 0.0016 - val_loss: 0.0028 - 159ms/epoch - 4ms/step\n",
            "Epoch 88/100\n",
            "43/43 - 0s - loss: 0.0024 - val_loss: 0.0028 - 155ms/epoch - 4ms/step\n",
            "Epoch 89/100\n",
            "43/43 - 0s - loss: 0.0038 - val_loss: 0.0028 - 154ms/epoch - 4ms/step\n",
            "Epoch 90/100\n",
            "43/43 - 0s - loss: 0.0059 - val_loss: 0.0028 - 157ms/epoch - 4ms/step\n",
            "Epoch 91/100\n",
            "43/43 - 0s - loss: 0.0015 - val_loss: 0.0028 - 153ms/epoch - 4ms/step\n",
            "Epoch 92/100\n",
            "43/43 - 0s - loss: 0.0012 - val_loss: 0.0027 - 159ms/epoch - 4ms/step\n",
            "Epoch 93/100\n",
            "43/43 - 0s - loss: 0.0012 - val_loss: 0.0027 - 170ms/epoch - 4ms/step\n",
            "Epoch 94/100\n",
            "43/43 - 0s - loss: 0.0012 - val_loss: 0.0027 - 162ms/epoch - 4ms/step\n",
            "Epoch 95/100\n",
            "43/43 - 0s - loss: 0.0012 - val_loss: 0.0027 - 163ms/epoch - 4ms/step\n",
            "Epoch 96/100\n",
            "43/43 - 0s - loss: 0.0012 - val_loss: 0.0026 - 200ms/epoch - 5ms/step\n",
            "Epoch 97/100\n",
            "43/43 - 0s - loss: 0.0012 - val_loss: 0.0026 - 151ms/epoch - 4ms/step\n",
            "Epoch 98/100\n",
            "43/43 - 0s - loss: 0.0012 - val_loss: 0.0026 - 152ms/epoch - 4ms/step\n",
            "Epoch 99/100\n",
            "43/43 - 0s - loss: 0.0012 - val_loss: 0.0025 - 156ms/epoch - 4ms/step\n",
            "Epoch 100/100\n",
            "43/43 - 0s - loss: 0.0013 - val_loss: 0.0025 - 151ms/epoch - 4ms/step\n"
          ]
        }
      ]
    },
    {
      "cell_type": "code",
      "source": [
        "ypr=model1.predict(Xtst1)\n",
        "#ypr=ypr.reshape(-1)"
      ],
      "metadata": {
        "id": "B0nUo3t1jOD7"
      },
      "execution_count": 1224,
      "outputs": []
    },
    {
      "cell_type": "markdown",
      "source": [
        "### Lærdómskúrva"
      ],
      "metadata": {
        "id": "Lh8k7h-Zi-H-"
      }
    },
    {
      "cell_type": "code",
      "source": [
        "pd.DataFrame(history1.history).plot(figsize=(8,5))\n",
        "plt.grid()\n",
        "plt.gca().set_ylim(0, 0.05)\n",
        "plt.show()"
      ],
      "metadata": {
        "colab": {
          "base_uri": "https://localhost:8080/",
          "height": 0
        },
        "id": "vP2XYn_eWIYH",
        "outputId": "227e6e09-f919-4eee-f0bb-7fb35714cb79"
      },
      "execution_count": 1225,
      "outputs": [
        {
          "output_type": "display_data",
          "data": {
            "text/plain": [
              "<Figure size 576x360 with 1 Axes>"
            ],
            "image/png": "[encoded data removed]"
          },
          "metadata": {
            "needs_background": "light"
          }
        }
      ]
    },
    {
      "cell_type": "markdown",
      "source": [
        "### Samanburður á raunverulegu close og mati LSTM"
      ],
      "metadata": {
        "id": "WOvSHPrajT9b"
      }
    },
    {
      "cell_type": "code",
      "source": [
        "plt.figure(figsize=(15,10))\n",
        "plt.gca().xaxis.set_major_formatter(mdates.DateFormatter('%Y-%m-%d'))\n",
        "plt.gca().xaxis.set_major_locator(mdates.DayLocator(interval=75))\n",
        "k=len(Xtr1)\n",
        "x_dates=data_dates[k:]\n",
        "#h=stockh['Close']\n",
        "h=h_ft[k:]\n",
        "#h=h[k:]\n",
        "plt.plot(x_dates, ypr, label='LSTM')\n",
        "plt.plot(x_dates, h, label='Close')\n",
        "plt.xlabel('Time Scale')\n",
        "plt.ylabel('Scaled USD')\n",
        "plt.legend()\n",
        "plt.gcf().autofmt_xdate()\n",
        "plt.show()"
      ],
      "metadata": {
        "colab": {
          "base_uri": "https://localhost:8080/",
          "height": 0
        },
        "id": "No3wFJHIdhio",
        "outputId": "e8b18c85-4e9d-4d15-ff76-98619a3d65a4"
      },
      "execution_count": 1226,
      "outputs": [
        {
          "output_type": "display_data",
          "data": {
            "text/plain": [
              "<Figure size 1080x720 with 1 Axes>"
            ],
            "image/png": "[encoded data removed]"
          },
          "metadata": {
            "needs_background": "light"
          }
        }
      ]
    },
    {
      "cell_type": "markdown",
      "source": [
        "### RMSE OG MAPE VILLA"
      ],
      "metadata": {
        "id": "coMnjTiZjayJ"
      }
    },
    {
      "cell_type": "code",
      "source": [
        "rmse=mean_squared_error(ytst1,ypr,squared=False)\n",
        "mape=mean_absolute_percentage_error(ytst1,ypr)\n",
        "print(\"RSME:\",rmse)\n",
        "print(\"MAPE:\",mape)"
      ],
      "metadata": {
        "colab": {
          "base_uri": "https://localhost:8080/"
        },
        "id": "AYamzFtWd2sC",
        "outputId": "c461d951-687b-4497-aaac-76dc2da51af6"
      },
      "execution_count": 1227,
      "outputs": [
        {
          "output_type": "stream",
          "name": "stdout",
          "text": [
            "RSME: 0.05024244816550446\n",
            "MAPE: 0.08517491194506704\n"
          ]
        }
      ]
    },
    {
      "cell_type": "code",
      "source": [
        "Villa1 = (rmse+mape)/2"
      ],
      "metadata": {
        "id": "GcNDJOI2ppkc"
      },
      "execution_count": 1228,
      "outputs": []
    },
    {
      "cell_type": "markdown",
      "source": [
        "## Annað módel"
      ],
      "metadata": {
        "id": "VQWyae6bub5K"
      }
    },
    {
      "cell_type": "markdown",
      "source": [
        "### Þjálfun á modeli"
      ],
      "metadata": {
        "id": "bVGIAOPpjlpg"
      }
    },
    {
      "cell_type": "code",
      "source": [
        "model2 = keras.models.Sequential([\n",
        "    keras.layers.LSTM(50,input_shape=(Xtr1.shape[1],Xtr1.shape[2]),return_sequences=True),\n",
        "    keras.layers.LSTM(50,return_sequences=True),\n",
        "    keras.layers.LSTM(50),\n",
        "    keras.layers.Dense(1)])\n",
        "model2.compile(loss=\"mean_squared_error\", optimizer=\"adam\")\n",
        "model2.summary()"
      ],
      "metadata": {
        "colab": {
          "base_uri": "https://localhost:8080/"
        },
        "id": "KqeL8q3gfDJM",
        "outputId": "3726b54c-0bb2-4cd0-e156-7c005658d78b"
      },
      "execution_count": 1229,
      "outputs": [
        {
          "output_type": "stream",
          "name": "stdout",
          "text": [
            "Model: \"sequential_69\"\n",
            "_________________________________________________________________\n",
            " Layer (type)                Output Shape              Param #   \n",
            "=================================================================\n",
            " lstm_141 (LSTM)             (None, 1, 50)             11000     \n",
            "                                                                 \n",
            " lstm_142 (LSTM)             (None, 1, 50)             20200     \n",
            "                                                                 \n",
            " lstm_143 (LSTM)             (None, 50)                20200     \n",
            "                                                                 \n",
            " dense_69 (Dense)            (None, 1)                 51        \n",
            "                                                                 \n",
            "=================================================================\n",
            "Total params: 51,451\n",
            "Trainable params: 51,451\n",
            "Non-trainable params: 0\n",
            "_________________________________________________________________\n"
          ]
        }
      ]
    },
    {
      "cell_type": "code",
      "source": [
        "#history2=model2.fit(Xtr,ytr,epochs=100,batch_size=4,verbose=2,shuffle=False)"
      ],
      "metadata": {
        "id": "kgjLemBfg73r"
      },
      "execution_count": 1230,
      "outputs": []
    },
    {
      "cell_type": "code",
      "source": [
        "history2 = model2.fit(Xtr1, ytr1, epochs=100, batch_size=50, validation_data=(Xtst1, ytst1), verbose=2, shuffle=False)"
      ],
      "metadata": {
        "colab": {
          "base_uri": "https://localhost:8080/"
        },
        "id": "SZeFdqa8hebm",
        "outputId": "c7879135-9792-44cf-db8b-6f88fbed13a9"
      },
      "execution_count": null,
      "outputs": [
        {
          "output_type": "stream",
          "name": "stdout",
          "text": [
            "Epoch 1/100\n"
          ]
        }
      ]
    },
    {
      "cell_type": "code",
      "source": [
        "ypr2=model2.predict(Xtst1)\n",
        "#ypr2=ypr2.reshape(-1)"
      ],
      "metadata": {
        "id": "3yVRiatLhrbH"
      },
      "execution_count": null,
      "outputs": []
    },
    {
      "cell_type": "code",
      "source": [
        "pd.DataFrame(history2.history).plot(figsize=(8,5))\n",
        "plt.grid()\n",
        "plt.gca().set_ylim(0, 0.8)\n",
        "plt.show()"
      ],
      "metadata": {
        "id": "Dx7eD_b7EQ6V"
      },
      "execution_count": null,
      "outputs": []
    },
    {
      "cell_type": "markdown",
      "source": [
        "### Samanburður á raunverulegu og LSTM"
      ],
      "metadata": {
        "id": "Y4h7otTJjroK"
      }
    },
    {
      "cell_type": "code",
      "source": [
        "plt.figure(figsize=(15,10))\n",
        "plt.gca().xaxis.set_major_formatter(mdates.DateFormatter('%Y-%m-%d'))\n",
        "plt.gca().xaxis.set_major_locator(mdates.DayLocator(interval=75))\n",
        "k=len(Xtr1)\n",
        "x_dates=data_dates[k:]\n",
        "#h=data['Adj Close']\n",
        "h=h_ft[k:]\n",
        "#h=h[k:]\n",
        "plt.plot(x_dates, ypr2, label='LSTM')\n",
        "plt.plot(x_dates, h, label='Adj Close')\n",
        "plt.xlabel('Time Scale')\n",
        "plt.ylabel('Scaled USD')\n",
        "plt.legend()\n",
        "plt.gcf().autofmt_xdate()\n",
        "plt.show()"
      ],
      "metadata": {
        "id": "H81r9m8iiDO_"
      },
      "execution_count": null,
      "outputs": []
    },
    {
      "cell_type": "markdown",
      "source": [
        "### RMSE OG MAPE VILLA"
      ],
      "metadata": {
        "id": "Rht2H_4TjzJ0"
      }
    },
    {
      "cell_type": "code",
      "source": [
        "rmse2=mean_squared_error(ytst1,ypr2,squared=False)\n",
        "mape2=mean_absolute_percentage_error(ytst1,ypr2)\n",
        "print(\"RSME:\",rmse2)\n",
        "print(\"MAPE:\",mape2)"
      ],
      "metadata": {
        "id": "0Kpg11CziaSy"
      },
      "execution_count": null,
      "outputs": []
    },
    {
      "cell_type": "code",
      "source": [
        "Villa2=(rmse2+mape2)/2"
      ],
      "metadata": {
        "id": "opYvw1ZRpti9"
      },
      "execution_count": null,
      "outputs": []
    },
    {
      "cell_type": "markdown",
      "source": [
        "## Þriðja módel"
      ],
      "metadata": {
        "id": "x4I2MzRCueJh"
      }
    },
    {
      "cell_type": "markdown",
      "source": [
        "### Þjálfun"
      ],
      "metadata": {
        "id": "NVv1N-yllX_9"
      }
    },
    {
      "cell_type": "code",
      "source": [
        "n_steps1=100\n",
        "X12, y12= lstm_split(X_ft.values, n_steps1=n_steps1)\n",
        "\n",
        "train_split=0.8\n",
        "split_idx= int(np.ceil(len(X12)*train_split))\n",
        "date_index=X_ft.index\n",
        "\n",
        "Xtr2, Xtst2= X12[:split_idx], X12[split_idx:]\n",
        "ytr2, ytst2= y12[:split_idx], y12[split_idx:]\n",
        "Xtrd2, Xtstd2= date_index[:split_idx], date_index[split_idx:-n_steps1+1]\n",
        "\n",
        "print(X12.shape, Xtr2.shape, Xtst2.shape,Xtstd2.shape, ytst2.shape)"
      ],
      "metadata": {
        "id": "8j6oCC0Mi1O_"
      },
      "execution_count": null,
      "outputs": []
    },
    {
      "cell_type": "code",
      "source": [
        "#model = Sequential()\n",
        "#model.add(LSTM(50, return_sequences=True))\n",
        "#model.add(Dropout(0.1))\n",
        "#model.add(LSTM(50))\n",
        "#model.add(Dropout(0.1))\n",
        "#model.add(Dense(1, activation='linear'))\n",
        "#model.compile(loss='mean_squared_error', optimizer='adam')"
      ],
      "metadata": {
        "id": "ZwNLQ34yBuDr"
      },
      "execution_count": null,
      "outputs": []
    },
    {
      "cell_type": "code",
      "source": [
        "#model3 = keras.models.Sequential([\n",
        "    #keras.layers.LSTM(50,input_shape=(Xtr.shape[1],Xtr.shape[2]), activation=\"relu\",return_sequences=True),\n",
        "    #keras.layers.LSTM(50,activation=\"relu\"),\n",
        "    #keras.layers.Dense(1)])\n",
        "#model3.compile(loss=\"mean_squared_error\", optimizer=\"adam\")\n",
        "#model3.summary()"
      ],
      "metadata": {
        "id": "25Vt3iwSjfFk"
      },
      "execution_count": null,
      "outputs": []
    },
    {
      "cell_type": "code",
      "source": [
        "model3 = keras.models.Sequential([\n",
        "    keras.layers.LSTM(50,input_shape=(Xtr2.shape[1],Xtr2.shape[2]),return_sequences=True),\n",
        "    keras.layers.LSTM(50,return_sequences=True),\n",
        "    keras.layers.LSTM(50),\n",
        "    keras.layers.Dense(1)])\n",
        "model3.compile(loss=\"mean_squared_error\", optimizer=\"adam\")\n",
        "model3.summary()"
      ],
      "metadata": {
        "id": "bHWEYAsXqFgs"
      },
      "execution_count": null,
      "outputs": []
    },
    {
      "cell_type": "code",
      "source": [
        "#model3 = keras.models.Sequential([\n",
        "    #keras.layers.LSTM(50,return_sequences=True),\n",
        "    #keras.layers.Dropout(0.5),\n",
        "    #keras.layers.LSTM(50),\n",
        "    #keras.layers.Dropout(0.5),\n",
        "    #keras.layers.Dense(1)])\n",
        "#model3.compile(loss=\"mean_squared_error\", optimizer=\"adam\")"
      ],
      "metadata": {
        "id": "TbbXLK72CamP"
      },
      "execution_count": null,
      "outputs": []
    },
    {
      "cell_type": "code",
      "source": [
        "#history3 = model3.fit(Xtr2, ytr2, epochs=100, batch_size=50, validation_data=(Xtst2, ytst2), verbose=2, shuffle=False)"
      ],
      "metadata": {
        "id": "w8tPAchFjqKA"
      },
      "execution_count": null,
      "outputs": []
    },
    {
      "cell_type": "code",
      "source": [
        "history3=model3.fit(Xtr2,ytr2,validation_data=(Xtst2,ytst2),epochs=100,batch_size=64,verbose=2)"
      ],
      "metadata": {
        "id": "K7uT2HqhqUdc"
      },
      "execution_count": null,
      "outputs": []
    },
    {
      "cell_type": "code",
      "source": [
        "ypr3=model3.predict(Xtst2)\n",
        "#ypr3=ypr3.reshape(-1)"
      ],
      "metadata": {
        "id": "C5t6bF8hj3YE"
      },
      "execution_count": null,
      "outputs": []
    },
    {
      "cell_type": "markdown",
      "source": [
        "### Lærdómskúrva"
      ],
      "metadata": {
        "id": "Dafi0l9mmkDT"
      }
    },
    {
      "cell_type": "code",
      "source": [
        "pd.DataFrame(history3.history).plot(figsize=(8,5))\n",
        "plt.grid()\n",
        "plt.gca().set_ylim(0, 0.8)\n",
        "plt.show()"
      ],
      "metadata": {
        "id": "NeamNApgmjMG"
      },
      "execution_count": null,
      "outputs": []
    },
    {
      "cell_type": "markdown",
      "source": [
        "### Samanburður"
      ],
      "metadata": {
        "id": "pndNT27LlTtH"
      }
    },
    {
      "cell_type": "code",
      "source": [
        "plt.figure(figsize=(15,10))\n",
        "plt.gca().xaxis.set_major_formatter(mdates.DateFormatter('%Y-%m-%d'))\n",
        "plt.gca().xaxis.set_major_locator(mdates.DayLocator(interval=75))\n",
        "k=len(Xtr2)\n",
        "thri=len(X12)-len(Xtstd2)\n",
        "x_dates=data_dates[k:]\n",
        "#h=stockh['Close']\n",
        "n=n_steps1-1\n",
        "h=h_ft[thri+n:]\n",
        "#h=h[k:]\n",
        "plt.plot(Xtstd2, ypr3, label='LSTM')\n",
        "plt.plot(Xtstd2, h, label='Close')\n",
        "plt.xlabel('Time Scale')\n",
        "plt.ylabel('Scaled USD')\n",
        "plt.legend()\n",
        "plt.gcf().autofmt_xdate()\n",
        "plt.show()"
      ],
      "metadata": {
        "id": "DHERdAEyj92k"
      },
      "execution_count": null,
      "outputs": []
    },
    {
      "cell_type": "markdown",
      "source": [
        "### RMSE OG MAPE"
      ],
      "metadata": {
        "id": "uNPNvmKjliMS"
      }
    },
    {
      "cell_type": "code",
      "source": [
        "rmse3=mean_squared_error(ytst2,ypr3,squared=False)\n",
        "mape3=mean_absolute_percentage_error(ytst2,ypr3)\n",
        "print(\"RSME:\",rmse3)\n",
        "print(\"MAPE:\",mape3)"
      ],
      "metadata": {
        "id": "2SsZC83dkH-0"
      },
      "execution_count": null,
      "outputs": []
    },
    {
      "cell_type": "code",
      "source": [
        "Villa3=(rmse3+mape3)/2"
      ],
      "metadata": {
        "id": "a6G80lzBpR8H"
      },
      "execution_count": null,
      "outputs": []
    },
    {
      "cell_type": "markdown",
      "source": [
        "## MAPE"
      ],
      "metadata": {
        "id": "PzfDhOz9uhXF"
      }
    },
    {
      "cell_type": "code",
      "source": [
        "train_split=0.8\n",
        "split_idx2= int(np.ceil(len(data)*train_split))\n",
        "tr=data[['Adj Close']].iloc[:split_idx2]\n",
        "tst=data[['Adj Close']].iloc[split_idx2:]\n",
        "\n",
        "tstpr=np.array([tr.rolling(10).mean().iloc[-1]]*len(tst)).reshape((-1,1))\n",
        "\n",
        "print('Test RMSE: %.3f'%mean_squared_error(tst,tstpr,squared=False))\n",
        "print('Test MAPE: %.3f'%mean_absolute_percentage_error(tst,tstpr))\n",
        "f=len(tst)-len(h)\n",
        "z=n-f\n",
        "x_dates=data_dates[k+z:]\n",
        "\n",
        "\n",
        "plt.figure(figsize=(10,5))\n",
        "#plt.plot(tst)\n",
        "#plt.plot(tstpr)\n",
        "plt.plot(x_dates, tst, label='LSTM')\n",
        "plt.plot(x_dates, tstpr, label='Spá')\n",
        "plt.legend()\n",
        "plt.gcf().autofmt_xdate()\n",
        "plt.show()"
      ],
      "metadata": {
        "id": "81Bv_hBatbkF"
      },
      "execution_count": null,
      "outputs": []
    },
    {
      "cell_type": "code",
      "source": [
        "from statsmodels.tsa.api import SimpleExpSmoothing\n",
        "\n",
        "J=data[['Adj Close']].values\n",
        "train_split=0.8\n",
        "split_idx3= int(np.ceil(len(J)*train_split))\n",
        "tr2=J[:split_idx3]\n",
        "tst2=J[split_idx3:]\n",
        "tst_concat=np.array([]).reshape((0,1))\n",
        "\n",
        "for i in range(len(tst2)):\n",
        "  tr_fit=np.concatenate((tr2,np.asarray(tst_concat)))\n",
        "  fit=SimpleExpSmoothing(np.asarray(tr_fit)).fit(smoothing_level=0.2)\n",
        "  tst_pr=fit.forecast(1)\n",
        "  tst_concat=np.concatenate((np.asarray(tst_concat),tst_pr.reshape((-1,1))))\n",
        "\n",
        "print('Test RMSE: %.3f'%mean_squared_error(tst2,tst_concat,squared=False))\n",
        "print('Test MAPE: %.3f'%mean_absolute_percentage_error(tst2,tst_concat))\n",
        "f=len(tst2)-len(h)\n",
        "z=n-f\n",
        "x_dates=data_dates[k+z:]\n",
        "\n",
        "plt.figure(figsize=(10,5))\n",
        "#plt.plot(tst)\n",
        "#plt.plot(tstpr)\n",
        "plt.plot(x_dates, tst2, label='LSTM')\n",
        "plt.plot(x_dates, tst_concat, label='Spá')\n",
        "plt.legend()\n",
        "plt.gcf().autofmt_xdate()\n",
        "plt.show()\n"
      ],
      "metadata": {
        "id": "JxtheevP0I4N"
      },
      "execution_count": null,
      "outputs": []
    },
    {
      "cell_type": "markdown",
      "source": [
        "## Val á modeli með minnstu villuna"
      ],
      "metadata": {
        "id": "7yQqisjuoySt"
      }
    },
    {
      "cell_type": "code",
      "source": [
        "smallest = 0\n",
        "if Villa1 < Villa2 and Villa1 < Villa3 :\n",
        "    smallest = 'Model1'\n",
        "if Villa2 < Villa1 and Villa2 < Villa3 :\n",
        "    smallest = 'Model2'\n",
        "if Villa3 < Villa1 and Villa3 < Villa2 :\n",
        "    smallest = 'Model3'\n",
        "print(smallest, \"er með minnstu villuna.\")\n",
        "print(\"Við veljum þá\", smallest)"
      ],
      "metadata": {
        "id": "lUuJhw3vove0"
      },
      "execution_count": null,
      "outputs": []
    },
    {
      "cell_type": "markdown",
      "source": [
        "## fram í tímann"
      ],
      "metadata": {
        "id": "1YRL3sWLqVQN"
      }
    },
    {
      "cell_type": "markdown",
      "source": [
        "### val á gögnum"
      ],
      "metadata": {
        "id": "SAwoSwQGl63L"
      }
    },
    {
      "cell_type": "code",
      "source": [
        "df1=data.reset_index()['Adj Close']\n",
        "df1.shape"
      ],
      "metadata": {
        "id": "ailz6ysMtGK0"
      },
      "execution_count": null,
      "outputs": []
    },
    {
      "cell_type": "markdown",
      "source": [
        "### Mynd af gögnum sem voru valin"
      ],
      "metadata": {
        "id": "vxHSnQyql9ag"
      }
    },
    {
      "cell_type": "code",
      "source": [
        "plt.figure(figsize=(15,10))\n",
        "plt.gca().xaxis.set_major_formatter(mdates.DateFormatter('%Y-%m-%d'))\n",
        "plt.gca().xaxis.set_major_locator(mdates.DayLocator(interval=75))\n",
        "x_dates=data_dates\n",
        "#plt.plot(df1)\n",
        "plt.plot(x_dates, df1, label='Close')\n",
        "plt.gcf().autofmt_xdate()"
      ],
      "metadata": {
        "id": "-eN5-13_wm3G"
      },
      "execution_count": null,
      "outputs": []
    },
    {
      "cell_type": "markdown",
      "source": [
        "### Gagnavinnsla"
      ],
      "metadata": {
        "id": "aasC9ZL9mCJv"
      }
    },
    {
      "cell_type": "code",
      "source": [
        "scaler=MinMaxScaler(feature_range=(0,1))\n",
        "df1=scaler.fit_transform(np.array(df1).reshape(-1,1))"
      ],
      "metadata": {
        "id": "zsMAsin2wuBR"
      },
      "execution_count": null,
      "outputs": []
    },
    {
      "cell_type": "code",
      "source": [
        "#print(df1)"
      ],
      "metadata": {
        "id": "L8lvm5Clw2fN"
      },
      "execution_count": null,
      "outputs": []
    },
    {
      "cell_type": "code",
      "source": [
        "trainstaerd=int(len(df1)*0.65)\n",
        "tststaerd=len(df1)-trainstaerd\n",
        "train_data,test_data=df1[0:trainstaerd,:],df1[trainstaerd:len(df1),:1]"
      ],
      "metadata": {
        "id": "R2ezFMeaw7cg"
      },
      "execution_count": null,
      "outputs": []
    },
    {
      "cell_type": "code",
      "source": [
        "trainstaerd,tststaerd"
      ],
      "metadata": {
        "id": "I5SBLrNhw96J"
      },
      "execution_count": null,
      "outputs": []
    },
    {
      "cell_type": "code",
      "source": [
        "#train_data"
      ],
      "metadata": {
        "id": "z-FfkE3RxAw_"
      },
      "execution_count": null,
      "outputs": []
    },
    {
      "cell_type": "code",
      "source": [
        "import numpy\n",
        "# convert an array of values into a dataset matrix\n",
        "def create_dataset(dataset, time_step=1):\n",
        "\tdataX, dataY = [], []\n",
        "\tfor i in range(len(dataset)-time_step-1):\n",
        "\t\ta = dataset[i:(i+time_step), 0]   ###i=0, 0,1,2,3-----99   100 \n",
        "\t\tdataX.append(a)\n",
        "\t\tdataY.append(dataset[i + time_step, 0])\n",
        "\treturn numpy.array(dataX), numpy.array(dataY)"
      ],
      "metadata": {
        "id": "5X09kh2bxLz_"
      },
      "execution_count": null,
      "outputs": []
    },
    {
      "cell_type": "code",
      "source": [
        "time_step = 100\n",
        "Xtr3, ytr3 = create_dataset(train_data, time_step)\n",
        "Xtst3, ytst3 = create_dataset(test_data, time_step)"
      ],
      "metadata": {
        "id": "tBUdGsAzxOiv"
      },
      "execution_count": null,
      "outputs": []
    },
    {
      "cell_type": "code",
      "source": [
        "print(Xtr3.shape)\n",
        "print(ytr3.shape)"
      ],
      "metadata": {
        "id": "fUrIuhxmxRCs"
      },
      "execution_count": null,
      "outputs": []
    },
    {
      "cell_type": "code",
      "source": [
        "print(Xtst3.shape), print(ytst3.shape)"
      ],
      "metadata": {
        "id": "ZM-z9pQcxUow"
      },
      "execution_count": null,
      "outputs": []
    },
    {
      "cell_type": "code",
      "source": [
        "Xtr3 =Xtr3.reshape(Xtr3.shape[0],Xtr3.shape[1] , 1)\n",
        "Xtst3 = Xtst3.reshape(Xtst3.shape[0],Xtst3.shape[1] , 1)"
      ],
      "metadata": {
        "id": "C5_r5uRexXKl"
      },
      "execution_count": null,
      "outputs": []
    },
    {
      "cell_type": "code",
      "source": [
        "#model1 = keras.models.Sequential([\n",
        "    #keras.layers.LSTM(32,input_shape=(Xtr3.shape[1],Xtr3.shape[2]), activation=\"relu\",return_sequences=True),\n",
        "    #keras.layers.LSTM(32),\n",
        "    #keras.layers.Dense(1)])\n",
        "#model1.compile(loss=\"mean_squared_error\", optimizer=\"adam\")\n",
        "#model1.summary()"
      ],
      "metadata": {
        "id": "hMCAEER87vxq"
      },
      "execution_count": null,
      "outputs": []
    },
    {
      "cell_type": "markdown",
      "source": [
        "### Modelið"
      ],
      "metadata": {
        "id": "9UFg9TmumG7D"
      }
    },
    {
      "cell_type": "code",
      "source": [
        "\n",
        "if smallest=='Model1' :\n",
        "    print(\"Við notum Model1\")\n",
        "    model1 = keras.models.Sequential([\n",
        "    keras.layers.LSTM(32,input_shape=(Xtr3.shape[1],Xtr3.shape[2]), activation=\"relu\",return_sequences=True),\n",
        "    keras.layers.LSTM(32),\n",
        "    keras.layers.Dense(1)])\n",
        "    model1.compile(loss=\"mean_squared_error\", optimizer=\"adam\")\n",
        "    model1.summary()\n",
        "    model1.fit(Xtr3,ytr3,validation_data=(Xtst3,ytst3),epochs=100,batch_size=4,verbose=2)   \n",
        "if smallest=='Model2' :\n",
        "    print(\"Við notum Model2\")\n",
        "    model2 = keras.models.Sequential([\n",
        "    keras.layers.LSTM(50,input_shape=(Xtr3.shape[1],Xtr3.shape[2]),return_sequences=True),\n",
        "    keras.layers.LSTM(50,return_sequences=True),\n",
        "    keras.layers.LSTM(50),\n",
        "    keras.layers.Dense(1)])\n",
        "    model2.compile(loss=\"mean_squared_error\", optimizer=\"adam\")\n",
        "    model2.summary()\n",
        "    model2.fit(Xtr3,ytr3,validation_data=(Xtst3,ytst3),epochs=100,batch_size=50,verbose=2) \n",
        "if smallest=='Model3' :\n",
        "    print(\"Við notum Model3\")\n",
        "    model3 = keras.models.Sequential([\n",
        "    keras.layers.LSTM(50,return_sequences=True),\n",
        "    keras.layers.Dropout(0.1),\n",
        "    keras.layers.LSTM(50),\n",
        "    keras.layers.Dropout(0.1),\n",
        "    keras.layers.Dense(1)])\n",
        "    model3.compile(loss=\"mean_squared_error\", optimizer=\"adam\")\n",
        "    model3.fit(Xtr3,ytr3,validation_data=(Xtst3,ytst3),epochs=100,batch_size=50,verbose=2) "
      ],
      "metadata": {
        "id": "ccVDehNQq6rF"
      },
      "execution_count": null,
      "outputs": []
    },
    {
      "cell_type": "code",
      "source": [
        "#model6 = keras.models.Sequential([\n",
        "    #keras.layers.LSTM(50,input_shape=(Xtr3.shape[1],Xtr3.shape[2]),return_sequences=True),\n",
        "    #keras.layers.LSTM(50,return_sequences=True),\n",
        "    #keras.layers.LSTM(50),\n",
        "    #keras.layers.Dense(1)])\n",
        "#model6.compile(loss=\"mean_squared_error\", optimizer=\"adam\")\n",
        "#model6.summary()"
      ],
      "metadata": {
        "id": "VHuwyYHrxgnE"
      },
      "execution_count": null,
      "outputs": []
    },
    {
      "cell_type": "code",
      "source": [
        "#model6.fit(Xtr3,ytr3,validation_data=(Xtst3,ytst3),epochs=100,batch_size=64,verbose=2)"
      ],
      "metadata": {
        "id": "yDaonX--yFX_"
      },
      "execution_count": null,
      "outputs": []
    },
    {
      "cell_type": "markdown",
      "source": [
        "### Spágögn búin til"
      ],
      "metadata": {
        "id": "zuvTEHRHmL7J"
      }
    },
    {
      "cell_type": "code",
      "source": [
        "mod=0\n",
        "if smallest=='Model1' :\n",
        "  train_predict=model1.predict(Xtr3)\n",
        "  test_predict=model1.predict(Xtst3)\n",
        "  mod=model1\n",
        "if smallest=='Model2' :\n",
        "  train_predict=model2.predict(Xtr3)\n",
        "  test_predict=model2.predict(Xtst3)\n",
        "  mod=model2\n",
        "if smallest=='Model3' :\n",
        "  train_predict=model3.predict(Xtr3)\n",
        "  test_predict=model3.predict(Xtst3)\n",
        "  mod=model3"
      ],
      "metadata": {
        "id": "QrRwKbrF-WLz"
      },
      "execution_count": null,
      "outputs": []
    },
    {
      "cell_type": "code",
      "source": [
        "#train_predict=model6.predict(Xtr3)\n",
        "#test_predict=model6.predict(Xtst3)"
      ],
      "metadata": {
        "id": "yuiOeEM8y2UF"
      },
      "execution_count": null,
      "outputs": []
    },
    {
      "cell_type": "code",
      "source": [
        "  #train_predict=train_predict.reshape(-2)\n",
        "  #test_predict=test_predict.reshape(-2)"
      ],
      "metadata": {
        "id": "W__WYC4sFBw3"
      },
      "execution_count": null,
      "outputs": []
    },
    {
      "cell_type": "code",
      "source": [
        "#train_predict=train_predict.reshape(-1,1)\n",
        "#test_predict=test_predict.reshape(-1,1)"
      ],
      "metadata": {
        "id": "4NAux2UrGo5C"
      },
      "execution_count": null,
      "outputs": []
    },
    {
      "cell_type": "code",
      "source": [
        "#train_predict = train_predict.reshape((train_predict[0],train_predict[1]*train_predict[2]))"
      ],
      "metadata": {
        "id": "Di9lm7eNBykP"
      },
      "execution_count": null,
      "outputs": []
    },
    {
      "cell_type": "code",
      "source": [
        "train_predict=scaler.inverse_transform(train_predict)\n",
        "test_predict=scaler.inverse_transform(test_predict)"
      ],
      "metadata": {
        "id": "s2ZmdSGay267"
      },
      "execution_count": null,
      "outputs": []
    },
    {
      "cell_type": "markdown",
      "source": [
        "### RMSE "
      ],
      "metadata": {
        "id": "cUlrRmmDmPvA"
      }
    },
    {
      "cell_type": "code",
      "source": [
        "### Calculate RMSE performance metrics\n",
        "math.sqrt(mean_squared_error(ytr3,train_predict))"
      ],
      "metadata": {
        "id": "da3foQhoy7sk"
      },
      "execution_count": null,
      "outputs": []
    },
    {
      "cell_type": "code",
      "source": [
        "### Test Data RMSE\n",
        "math.sqrt(mean_squared_error(ytst3,test_predict))"
      ],
      "metadata": {
        "id": "tJvVL5RpzhYK"
      },
      "execution_count": null,
      "outputs": []
    },
    {
      "cell_type": "markdown",
      "source": [
        "### Mynd af einhverju (skoða)"
      ],
      "metadata": {
        "id": "7wDNXSEWmUKR"
      }
    },
    {
      "cell_type": "code",
      "source": [
        "### Plotting \n",
        "# shift train predictions for plotting\n",
        "look_back=100\n",
        "trainPredictPlot = numpy.empty_like(df1)\n",
        "trainPredictPlot[:, :] = np.nan\n",
        "trainPredictPlot[look_back:len(train_predict)+look_back, :] = train_predict\n",
        "# shift test predictions for plotting\n",
        "testPredictPlot = numpy.empty_like(df1)\n",
        "testPredictPlot[:, :] = numpy.nan\n",
        "testPredictPlot[len(train_predict)+(look_back*2)+1:len(df1)-1, :] = test_predict\n",
        "# plot baseline and predictions\n",
        "plt.figure(figsize=(15,10))\n",
        "plt.gca().xaxis.set_major_formatter(mdates.DateFormatter('%Y-%m-%d'))\n",
        "plt.gca().xaxis.set_major_locator(mdates.DayLocator(interval=80))\n",
        "x_dates=data_dates\n",
        "plt.plot(data_dates,scaler.inverse_transform(df1),label='Spá útfrá test gögnum')\n",
        "plt.plot(data_dates,trainPredictPlot, label='Öll gögn')\n",
        "plt.plot(data_dates,testPredictPlot,label='Spá útfrá train gögnum')\n",
        "plt.legend(['Öll gögn', 'Spá útfrá train gögnum','Spá útfrá test gögnum'],loc='upper left')\n",
        "plt.gcf().autofmt_xdate()\n",
        "plt.show()"
      ],
      "metadata": {
        "id": "sHbwo4lEzlzE"
      },
      "execution_count": null,
      "outputs": []
    },
    {
      "cell_type": "markdown",
      "source": [
        "### Framtíðargögn sett í fylki"
      ],
      "metadata": {
        "id": "KbEM6IGtmdeh"
      }
    },
    {
      "cell_type": "code",
      "source": [
        "len(test_data)"
      ],
      "metadata": {
        "id": "wOC2tgNY0dqY"
      },
      "execution_count": null,
      "outputs": []
    },
    {
      "cell_type": "code",
      "source": [
        "timi=len(test_data)-100\n"
      ],
      "metadata": {
        "id": "OwSFKYdK6Yy2"
      },
      "execution_count": null,
      "outputs": []
    },
    {
      "cell_type": "code",
      "source": [
        "x_input=test_data[timi:].reshape(1,-1)\n",
        "x_input.shape"
      ],
      "metadata": {
        "id": "SjnuSVl10gmT"
      },
      "execution_count": null,
      "outputs": []
    },
    {
      "cell_type": "code",
      "source": [
        "temp_input=list(x_input)\n",
        "temp_input=temp_input[0].tolist()"
      ],
      "metadata": {
        "id": "XyVqrri_0p5I"
      },
      "execution_count": null,
      "outputs": []
    },
    {
      "cell_type": "code",
      "source": [
        "#temp_input"
      ],
      "metadata": {
        "id": "RyzEaBSs0s_T"
      },
      "execution_count": null,
      "outputs": []
    },
    {
      "cell_type": "code",
      "source": [
        "lst_output=[]\n",
        "n_steps=100\n",
        "i=0\n",
        "while(i<30):\n",
        "    \n",
        "    if(len(temp_input)>100):\n",
        "        #print(temp_input)\n",
        "        x_input=np.array(temp_input[1:])\n",
        "        print(\"{} day input {}\".format(i,x_input))\n",
        "        x_input=x_input.reshape(1,-1)\n",
        "        x_input = x_input.reshape((1, n_steps, 1))\n",
        "        #print(x_input)\n",
        "        yhat = mod.predict(x_input, verbose=0)\n",
        "        print(\"{} day output {}\".format(i,yhat))\n",
        "        temp_input.extend(yhat[0].tolist())\n",
        "        temp_input=temp_input[1:]\n",
        "        #print(temp_input)\n",
        "        lst_output.extend(yhat.tolist())\n",
        "        i=i+1\n",
        "    else:\n",
        "        x_input = x_input.reshape((1, n_steps,1))\n",
        "        yhat = mod.predict(x_input, verbose=0)\n",
        "        print(yhat[0])\n",
        "        temp_input.extend(yhat[0].tolist())\n",
        "        print(len(temp_input))\n",
        "        lst_output.extend(yhat.tolist())\n",
        "        i=i+1\n",
        "    \n",
        "\n",
        "#print(lst_output)"
      ],
      "metadata": {
        "id": "f7TVWWBi0w53"
      },
      "execution_count": null,
      "outputs": []
    },
    {
      "cell_type": "code",
      "source": [
        "day_new=np.arange(1,101)\n",
        "day_pred=np.arange(101,131)"
      ],
      "metadata": {
        "id": "outt8CrT08L4"
      },
      "execution_count": null,
      "outputs": []
    },
    {
      "cell_type": "code",
      "source": [
        "len(df1)"
      ],
      "metadata": {
        "id": "sJ71XDne1CSC"
      },
      "execution_count": null,
      "outputs": []
    },
    {
      "cell_type": "code",
      "source": [
        "tim=len(df1)-100"
      ],
      "metadata": {
        "id": "ywNa5N_B67bh"
      },
      "execution_count": null,
      "outputs": []
    },
    {
      "cell_type": "markdown",
      "source": [
        "### Mynd af spá ósamsett"
      ],
      "metadata": {
        "id": "K6Exktokmjdz"
      }
    },
    {
      "cell_type": "code",
      "source": [
        "#df1.shape"
      ],
      "metadata": {
        "id": "h357RvN_yxl5"
      },
      "execution_count": null,
      "outputs": []
    },
    {
      "cell_type": "code",
      "source": [
        "fdata = pd.concat([data, future_dates], axis=0)\n",
        "framtid=fdata.index.to_frame().reset_index(drop=True)\n",
        "framtid=framtid.apply(pd.to_datetime)\n",
        "len(framtid)"
      ],
      "metadata": {
        "id": "aJcgaoALwPPb"
      },
      "execution_count": null,
      "outputs": []
    },
    {
      "cell_type": "code",
      "source": [
        "spat=len(framtid)-30\n",
        "sidf=len(framtid)-130"
      ],
      "metadata": {
        "id": "FZ-MoYGXxuPZ"
      },
      "execution_count": null,
      "outputs": []
    },
    {
      "cell_type": "code",
      "source": [
        "plt.figure(figsize=(15,10))\n",
        "plt.gca().xaxis.set_major_formatter(mdates.DateFormatter('%Y-%m-%d'))\n",
        "#plt.gca().xaxis.set_major_locator(mdates.DayLocator(interval=105))\n",
        "plt.plot(framtid[sidf:spat],scaler.inverse_transform(df1[tim:]))\n",
        "plt.plot(framtid[spat:],scaler.inverse_transform(lst_output))\n",
        "plt.gcf().autofmt_xdate()"
      ],
      "metadata": {
        "id": "hQRmbteF1F80"
      },
      "execution_count": null,
      "outputs": []
    },
    {
      "cell_type": "code",
      "source": [
        "timm=tim+30"
      ],
      "metadata": {
        "id": "vF4NbO5wacDt"
      },
      "execution_count": null,
      "outputs": []
    },
    {
      "cell_type": "code",
      "source": [
        ""
      ],
      "metadata": {
        "id": "Q-Cp9ngLfskk"
      },
      "execution_count": null,
      "outputs": []
    },
    {
      "cell_type": "code",
      "source": [
        "islenskt=int(islenskt)"
      ],
      "metadata": {
        "id": "WBWbCV0AgXYI"
      },
      "execution_count": null,
      "outputs": []
    },
    {
      "cell_type": "markdown",
      "source": [
        "### Mynd af spá samsett"
      ],
      "metadata": {
        "id": "pGIUYMUOmqIm"
      }
    },
    {
      "cell_type": "code",
      "source": [
        "plt.figure(figsize=(15,10))\n",
        "plt.gca().xaxis.set_major_formatter(mdates.DateFormatter('%Y-%m-%d'))\n",
        "#plt.gca().xaxis.set_major_locator(mdates.DayLocator(interval=105))\n",
        "df3=df1.tolist()\n",
        "df3.extend(lst_output)\n",
        "plt.plot(framtid[timm+islenskt:],df3[timm:])\n",
        "plt.gcf().autofmt_xdate()"
      ],
      "metadata": {
        "id": "gE5UTz_V1OGV"
      },
      "execution_count": null,
      "outputs": []
    },
    {
      "cell_type": "code",
      "source": [
        "df3=scaler.inverse_transform(df3).tolist()"
      ],
      "metadata": {
        "id": "7Lbma4D81hvh"
      },
      "execution_count": null,
      "outputs": []
    },
    {
      "cell_type": "markdown",
      "source": [
        "### Mynd af heildargögnum með spá"
      ],
      "metadata": {
        "id": "EMIZoRCXmxqC"
      }
    },
    {
      "cell_type": "code",
      "source": [
        "plt.figure(figsize=(15,10))\n",
        "plt.gca().xaxis.set_major_formatter(mdates.DateFormatter('%Y-%m-%d'))\n",
        "#plt.gca().xaxis.set_major_locator(mdates.DayLocator(interval=105))\n",
        "plt.plot(framtid[islenskt:],df3)\n",
        "plt.gcf().autofmt_xdate()"
      ],
      "metadata": {
        "id": "dzTCfLN71khG"
      },
      "execution_count": null,
      "outputs": []
    },
    {
      "cell_type": "markdown",
      "source": [
        "## Nett grafdót"
      ],
      "metadata": {
        "id": "WeggUZVxo71l"
      }
    },
    {
      "cell_type": "code",
      "source": [
        "choice = input('Write a stock symbol:')\n",
        "choice = choice.upper()\n",
        "data = yf.download(tickers=choice, period = 'max', interval = '1d', rounding= True)\n",
        "data['MA5'] = data['Close'].rolling(window=5).mean()\n",
        "data['MA20'] = data['Close'].rolling(window=20).mean()\n",
        "fig = go.Figure()\n",
        "fig.add_trace(go.Candlestick(x=data.index,open = data['Open'], high=data['High'], low=data['Low'], close=data['Close'], name = 'market data'))\n",
        "fig.add_trace(go.Scatter(x=data.index,y=data['MA5'],opacity=0.7,line=dict(color='blue', width=2),name='MA 5'))\n",
        "\n",
        "fig.add_trace(go.Scatter(x=data.index,y=data['MA20'],opacity=0.7,line=dict(color='orange', width=2),name='MA 20'))\n",
        "fig.update_layout(title = choice + ' share price', yaxis_title = 'Stock Price (USD)')\n",
        "fig.update_xaxes(\n",
        "rangeslider_visible=True,\n",
        "rangeselector=dict(\n",
        "buttons=list([\n",
        "#dict(count=15, label='15m', step='minute', stepmode='backward'),\n",
        "#dict(count=45, label='45m', step='minute', stepmode='backward'),\n",
        "#dict(count=1, label='1h', step='hour', stepmode='backward'),\n",
        "#dict(count=6, label='6h', step='hour', stepmode='backward'),\n",
        "dict(count=30, label='30d', step='day', stepmode='backward'),\n",
        "dict(count=3, label='3m', step='month', stepmode='backward'),\n",
        "dict(count=6, label='6m', step='month', stepmode='backward'),\n",
        "dict(count=1, label='YTD', step='year', stepmode='todate'),\n",
        "dict(count=1, label='1y', step='year', stepmode='backward'),\n",
        "dict(count=3, label='3y', step='year', stepmode='backward'),\n",
        "dict(step='all')\n",
        "])\n",
        ")\n",
        ")\n",
        "fig.show()"
      ],
      "metadata": {
        "id": "TS2D6ZRYo5A2"
      },
      "execution_count": null,
      "outputs": []
    }
  ]
}